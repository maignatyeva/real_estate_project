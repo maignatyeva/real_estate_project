{
 "cells": [
  {
   "cell_type": "markdown",
   "metadata": {},
   "source": [
    "# Исследование объявлений о продаже квартир\n",
    "\n",
    "В нашем распоряжении данные сервиса Яндекс.Недвижимость — архив объявлений о продаже квартир в Санкт-Петербурге и соседних населённых пунктов за несколько лет. Цель исследования - установить параметры для определения рыночной стоимости объектов недвижимости. Это позволит построить автоматизированную систему: она отследит аномалии и мошенническую деятельность. \n",
    "\n",
    "По каждой квартире на продажу доступны два вида данных. Первые вписаны пользователем, вторые — получены автоматически на основе картографических данных. Например, расстояние до центра, аэропорта, ближайшего парка и водоёма. "
   ]
  },
  {
   "cell_type": "markdown",
   "metadata": {},
   "source": [
    "## Изучение общей информации"
   ]
  },
  {
   "cell_type": "markdown",
   "metadata": {},
   "source": [
    "Для начала импортируем библиотеки pandas и matplotlib и сохраним данные в переменную `data`."
   ]
  },
  {
   "cell_type": "code",
   "execution_count": 1,
   "metadata": {},
   "outputs": [],
   "source": [
    "import pandas as pd\n",
    "import matplotlib.pyplot as plt"
   ]
  },
  {
   "cell_type": "code",
   "execution_count": 2,
   "metadata": {},
   "outputs": [],
   "source": [
    "try:\n",
    "    data = pd.read_csv('/Users/macbook/practicum/projects/real_estate_project/real_estate_data.csv', sep='\t')\n",
    "except:\n",
    "    data = pd.read_csv('https://code.s3.yandex.net/datasets/real_estate_data.csv', sep='\t')"
   ]
  },
  {
   "cell_type": "markdown",
   "metadata": {},
   "source": [
    "Теперь мы можем вывести первые строки датафрейма на экран, чтобы получить первое представление об имеющихся данных."
   ]
  },
  {
   "cell_type": "code",
   "execution_count": 3,
   "metadata": {},
   "outputs": [
    {
     "data": {
      "text/html": [
       "<div>\n",
       "<style scoped>\n",
       "    .dataframe tbody tr th:only-of-type {\n",
       "        vertical-align: middle;\n",
       "    }\n",
       "\n",
       "    .dataframe tbody tr th {\n",
       "        vertical-align: top;\n",
       "    }\n",
       "\n",
       "    .dataframe thead th {\n",
       "        text-align: right;\n",
       "    }\n",
       "</style>\n",
       "<table border=\"1\" class=\"dataframe\">\n",
       "  <thead>\n",
       "    <tr style=\"text-align: right;\">\n",
       "      <th></th>\n",
       "      <th>total_images</th>\n",
       "      <th>last_price</th>\n",
       "      <th>total_area</th>\n",
       "      <th>first_day_exposition</th>\n",
       "      <th>rooms</th>\n",
       "      <th>ceiling_height</th>\n",
       "      <th>floors_total</th>\n",
       "      <th>living_area</th>\n",
       "      <th>floor</th>\n",
       "      <th>is_apartment</th>\n",
       "      <th>...</th>\n",
       "      <th>kitchen_area</th>\n",
       "      <th>balcony</th>\n",
       "      <th>locality_name</th>\n",
       "      <th>airports_nearest</th>\n",
       "      <th>cityCenters_nearest</th>\n",
       "      <th>parks_around3000</th>\n",
       "      <th>parks_nearest</th>\n",
       "      <th>ponds_around3000</th>\n",
       "      <th>ponds_nearest</th>\n",
       "      <th>days_exposition</th>\n",
       "    </tr>\n",
       "  </thead>\n",
       "  <tbody>\n",
       "    <tr>\n",
       "      <th>0</th>\n",
       "      <td>20</td>\n",
       "      <td>13000000.0</td>\n",
       "      <td>108.00</td>\n",
       "      <td>2019-03-07T00:00:00</td>\n",
       "      <td>3</td>\n",
       "      <td>2.70</td>\n",
       "      <td>16.0</td>\n",
       "      <td>51.00</td>\n",
       "      <td>8</td>\n",
       "      <td>NaN</td>\n",
       "      <td>...</td>\n",
       "      <td>25.00</td>\n",
       "      <td>NaN</td>\n",
       "      <td>Санкт-Петербург</td>\n",
       "      <td>18863.0</td>\n",
       "      <td>16028.0</td>\n",
       "      <td>1.0</td>\n",
       "      <td>482.0</td>\n",
       "      <td>2.0</td>\n",
       "      <td>755.0</td>\n",
       "      <td>NaN</td>\n",
       "    </tr>\n",
       "    <tr>\n",
       "      <th>1</th>\n",
       "      <td>7</td>\n",
       "      <td>3350000.0</td>\n",
       "      <td>40.40</td>\n",
       "      <td>2018-12-04T00:00:00</td>\n",
       "      <td>1</td>\n",
       "      <td>NaN</td>\n",
       "      <td>11.0</td>\n",
       "      <td>18.60</td>\n",
       "      <td>1</td>\n",
       "      <td>NaN</td>\n",
       "      <td>...</td>\n",
       "      <td>11.00</td>\n",
       "      <td>2.0</td>\n",
       "      <td>посёлок Шушары</td>\n",
       "      <td>12817.0</td>\n",
       "      <td>18603.0</td>\n",
       "      <td>0.0</td>\n",
       "      <td>NaN</td>\n",
       "      <td>0.0</td>\n",
       "      <td>NaN</td>\n",
       "      <td>81.0</td>\n",
       "    </tr>\n",
       "    <tr>\n",
       "      <th>2</th>\n",
       "      <td>10</td>\n",
       "      <td>5196000.0</td>\n",
       "      <td>56.00</td>\n",
       "      <td>2015-08-20T00:00:00</td>\n",
       "      <td>2</td>\n",
       "      <td>NaN</td>\n",
       "      <td>5.0</td>\n",
       "      <td>34.30</td>\n",
       "      <td>4</td>\n",
       "      <td>NaN</td>\n",
       "      <td>...</td>\n",
       "      <td>8.30</td>\n",
       "      <td>0.0</td>\n",
       "      <td>Санкт-Петербург</td>\n",
       "      <td>21741.0</td>\n",
       "      <td>13933.0</td>\n",
       "      <td>1.0</td>\n",
       "      <td>90.0</td>\n",
       "      <td>2.0</td>\n",
       "      <td>574.0</td>\n",
       "      <td>558.0</td>\n",
       "    </tr>\n",
       "    <tr>\n",
       "      <th>3</th>\n",
       "      <td>0</td>\n",
       "      <td>64900000.0</td>\n",
       "      <td>159.00</td>\n",
       "      <td>2015-07-24T00:00:00</td>\n",
       "      <td>3</td>\n",
       "      <td>NaN</td>\n",
       "      <td>14.0</td>\n",
       "      <td>NaN</td>\n",
       "      <td>9</td>\n",
       "      <td>NaN</td>\n",
       "      <td>...</td>\n",
       "      <td>NaN</td>\n",
       "      <td>0.0</td>\n",
       "      <td>Санкт-Петербург</td>\n",
       "      <td>28098.0</td>\n",
       "      <td>6800.0</td>\n",
       "      <td>2.0</td>\n",
       "      <td>84.0</td>\n",
       "      <td>3.0</td>\n",
       "      <td>234.0</td>\n",
       "      <td>424.0</td>\n",
       "    </tr>\n",
       "    <tr>\n",
       "      <th>4</th>\n",
       "      <td>2</td>\n",
       "      <td>10000000.0</td>\n",
       "      <td>100.00</td>\n",
       "      <td>2018-06-19T00:00:00</td>\n",
       "      <td>2</td>\n",
       "      <td>3.03</td>\n",
       "      <td>14.0</td>\n",
       "      <td>32.00</td>\n",
       "      <td>13</td>\n",
       "      <td>NaN</td>\n",
       "      <td>...</td>\n",
       "      <td>41.00</td>\n",
       "      <td>NaN</td>\n",
       "      <td>Санкт-Петербург</td>\n",
       "      <td>31856.0</td>\n",
       "      <td>8098.0</td>\n",
       "      <td>2.0</td>\n",
       "      <td>112.0</td>\n",
       "      <td>1.0</td>\n",
       "      <td>48.0</td>\n",
       "      <td>121.0</td>\n",
       "    </tr>\n",
       "    <tr>\n",
       "      <th>5</th>\n",
       "      <td>10</td>\n",
       "      <td>2890000.0</td>\n",
       "      <td>30.40</td>\n",
       "      <td>2018-09-10T00:00:00</td>\n",
       "      <td>1</td>\n",
       "      <td>NaN</td>\n",
       "      <td>12.0</td>\n",
       "      <td>14.40</td>\n",
       "      <td>5</td>\n",
       "      <td>NaN</td>\n",
       "      <td>...</td>\n",
       "      <td>9.10</td>\n",
       "      <td>NaN</td>\n",
       "      <td>городской посёлок Янино-1</td>\n",
       "      <td>NaN</td>\n",
       "      <td>NaN</td>\n",
       "      <td>NaN</td>\n",
       "      <td>NaN</td>\n",
       "      <td>NaN</td>\n",
       "      <td>NaN</td>\n",
       "      <td>55.0</td>\n",
       "    </tr>\n",
       "    <tr>\n",
       "      <th>6</th>\n",
       "      <td>6</td>\n",
       "      <td>3700000.0</td>\n",
       "      <td>37.30</td>\n",
       "      <td>2017-11-02T00:00:00</td>\n",
       "      <td>1</td>\n",
       "      <td>NaN</td>\n",
       "      <td>26.0</td>\n",
       "      <td>10.60</td>\n",
       "      <td>6</td>\n",
       "      <td>NaN</td>\n",
       "      <td>...</td>\n",
       "      <td>14.40</td>\n",
       "      <td>1.0</td>\n",
       "      <td>посёлок Парголово</td>\n",
       "      <td>52996.0</td>\n",
       "      <td>19143.0</td>\n",
       "      <td>0.0</td>\n",
       "      <td>NaN</td>\n",
       "      <td>0.0</td>\n",
       "      <td>NaN</td>\n",
       "      <td>155.0</td>\n",
       "    </tr>\n",
       "    <tr>\n",
       "      <th>7</th>\n",
       "      <td>5</td>\n",
       "      <td>7915000.0</td>\n",
       "      <td>71.60</td>\n",
       "      <td>2019-04-18T00:00:00</td>\n",
       "      <td>2</td>\n",
       "      <td>NaN</td>\n",
       "      <td>24.0</td>\n",
       "      <td>NaN</td>\n",
       "      <td>22</td>\n",
       "      <td>NaN</td>\n",
       "      <td>...</td>\n",
       "      <td>18.90</td>\n",
       "      <td>2.0</td>\n",
       "      <td>Санкт-Петербург</td>\n",
       "      <td>23982.0</td>\n",
       "      <td>11634.0</td>\n",
       "      <td>0.0</td>\n",
       "      <td>NaN</td>\n",
       "      <td>0.0</td>\n",
       "      <td>NaN</td>\n",
       "      <td>NaN</td>\n",
       "    </tr>\n",
       "    <tr>\n",
       "      <th>8</th>\n",
       "      <td>20</td>\n",
       "      <td>2900000.0</td>\n",
       "      <td>33.16</td>\n",
       "      <td>2018-05-23T00:00:00</td>\n",
       "      <td>1</td>\n",
       "      <td>NaN</td>\n",
       "      <td>27.0</td>\n",
       "      <td>15.43</td>\n",
       "      <td>26</td>\n",
       "      <td>NaN</td>\n",
       "      <td>...</td>\n",
       "      <td>8.81</td>\n",
       "      <td>NaN</td>\n",
       "      <td>посёлок Мурино</td>\n",
       "      <td>NaN</td>\n",
       "      <td>NaN</td>\n",
       "      <td>NaN</td>\n",
       "      <td>NaN</td>\n",
       "      <td>NaN</td>\n",
       "      <td>NaN</td>\n",
       "      <td>189.0</td>\n",
       "    </tr>\n",
       "    <tr>\n",
       "      <th>9</th>\n",
       "      <td>18</td>\n",
       "      <td>5400000.0</td>\n",
       "      <td>61.00</td>\n",
       "      <td>2017-02-26T00:00:00</td>\n",
       "      <td>3</td>\n",
       "      <td>2.50</td>\n",
       "      <td>9.0</td>\n",
       "      <td>43.60</td>\n",
       "      <td>7</td>\n",
       "      <td>NaN</td>\n",
       "      <td>...</td>\n",
       "      <td>6.50</td>\n",
       "      <td>2.0</td>\n",
       "      <td>Санкт-Петербург</td>\n",
       "      <td>50898.0</td>\n",
       "      <td>15008.0</td>\n",
       "      <td>0.0</td>\n",
       "      <td>NaN</td>\n",
       "      <td>0.0</td>\n",
       "      <td>NaN</td>\n",
       "      <td>289.0</td>\n",
       "    </tr>\n",
       "  </tbody>\n",
       "</table>\n",
       "<p>10 rows × 22 columns</p>\n",
       "</div>"
      ],
      "text/plain": [
       "   total_images  last_price  total_area first_day_exposition  rooms  \\\n",
       "0            20  13000000.0      108.00  2019-03-07T00:00:00      3   \n",
       "1             7   3350000.0       40.40  2018-12-04T00:00:00      1   \n",
       "2            10   5196000.0       56.00  2015-08-20T00:00:00      2   \n",
       "3             0  64900000.0      159.00  2015-07-24T00:00:00      3   \n",
       "4             2  10000000.0      100.00  2018-06-19T00:00:00      2   \n",
       "5            10   2890000.0       30.40  2018-09-10T00:00:00      1   \n",
       "6             6   3700000.0       37.30  2017-11-02T00:00:00      1   \n",
       "7             5   7915000.0       71.60  2019-04-18T00:00:00      2   \n",
       "8            20   2900000.0       33.16  2018-05-23T00:00:00      1   \n",
       "9            18   5400000.0       61.00  2017-02-26T00:00:00      3   \n",
       "\n",
       "   ceiling_height  floors_total  living_area  floor is_apartment  ...  \\\n",
       "0            2.70          16.0        51.00      8          NaN  ...   \n",
       "1             NaN          11.0        18.60      1          NaN  ...   \n",
       "2             NaN           5.0        34.30      4          NaN  ...   \n",
       "3             NaN          14.0          NaN      9          NaN  ...   \n",
       "4            3.03          14.0        32.00     13          NaN  ...   \n",
       "5             NaN          12.0        14.40      5          NaN  ...   \n",
       "6             NaN          26.0        10.60      6          NaN  ...   \n",
       "7             NaN          24.0          NaN     22          NaN  ...   \n",
       "8             NaN          27.0        15.43     26          NaN  ...   \n",
       "9            2.50           9.0        43.60      7          NaN  ...   \n",
       "\n",
       "   kitchen_area  balcony              locality_name  airports_nearest  \\\n",
       "0         25.00      NaN            Санкт-Петербург           18863.0   \n",
       "1         11.00      2.0             посёлок Шушары           12817.0   \n",
       "2          8.30      0.0            Санкт-Петербург           21741.0   \n",
       "3           NaN      0.0            Санкт-Петербург           28098.0   \n",
       "4         41.00      NaN            Санкт-Петербург           31856.0   \n",
       "5          9.10      NaN  городской посёлок Янино-1               NaN   \n",
       "6         14.40      1.0          посёлок Парголово           52996.0   \n",
       "7         18.90      2.0            Санкт-Петербург           23982.0   \n",
       "8          8.81      NaN             посёлок Мурино               NaN   \n",
       "9          6.50      2.0            Санкт-Петербург           50898.0   \n",
       "\n",
       "  cityCenters_nearest  parks_around3000  parks_nearest  ponds_around3000  \\\n",
       "0             16028.0               1.0          482.0               2.0   \n",
       "1             18603.0               0.0            NaN               0.0   \n",
       "2             13933.0               1.0           90.0               2.0   \n",
       "3              6800.0               2.0           84.0               3.0   \n",
       "4              8098.0               2.0          112.0               1.0   \n",
       "5                 NaN               NaN            NaN               NaN   \n",
       "6             19143.0               0.0            NaN               0.0   \n",
       "7             11634.0               0.0            NaN               0.0   \n",
       "8                 NaN               NaN            NaN               NaN   \n",
       "9             15008.0               0.0            NaN               0.0   \n",
       "\n",
       "   ponds_nearest  days_exposition  \n",
       "0          755.0              NaN  \n",
       "1            NaN             81.0  \n",
       "2          574.0            558.0  \n",
       "3          234.0            424.0  \n",
       "4           48.0            121.0  \n",
       "5            NaN             55.0  \n",
       "6            NaN            155.0  \n",
       "7            NaN              NaN  \n",
       "8            NaN            189.0  \n",
       "9            NaN            289.0  \n",
       "\n",
       "[10 rows x 22 columns]"
      ]
     },
     "execution_count": 3,
     "metadata": {},
     "output_type": "execute_result"
    }
   ],
   "source": [
    "data.head(10)"
   ]
  },
  {
   "cell_type": "markdown",
   "metadata": {},
   "source": [
    "Выведем основную информацию о датафрейме."
   ]
  },
  {
   "cell_type": "code",
   "execution_count": 4,
   "metadata": {},
   "outputs": [
    {
     "name": "stdout",
     "output_type": "stream",
     "text": [
      "<class 'pandas.core.frame.DataFrame'>\n",
      "RangeIndex: 23699 entries, 0 to 23698\n",
      "Data columns (total 22 columns):\n",
      " #   Column                Non-Null Count  Dtype  \n",
      "---  ------                --------------  -----  \n",
      " 0   total_images          23699 non-null  int64  \n",
      " 1   last_price            23699 non-null  float64\n",
      " 2   total_area            23699 non-null  float64\n",
      " 3   first_day_exposition  23699 non-null  object \n",
      " 4   rooms                 23699 non-null  int64  \n",
      " 5   ceiling_height        14504 non-null  float64\n",
      " 6   floors_total          23613 non-null  float64\n",
      " 7   living_area           21796 non-null  float64\n",
      " 8   floor                 23699 non-null  int64  \n",
      " 9   is_apartment          2775 non-null   object \n",
      " 10  studio                23699 non-null  bool   \n",
      " 11  open_plan             23699 non-null  bool   \n",
      " 12  kitchen_area          21421 non-null  float64\n",
      " 13  balcony               12180 non-null  float64\n",
      " 14  locality_name         23650 non-null  object \n",
      " 15  airports_nearest      18157 non-null  float64\n",
      " 16  cityCenters_nearest   18180 non-null  float64\n",
      " 17  parks_around3000      18181 non-null  float64\n",
      " 18  parks_nearest         8079 non-null   float64\n",
      " 19  ponds_around3000      18181 non-null  float64\n",
      " 20  ponds_nearest         9110 non-null   float64\n",
      " 21  days_exposition       20518 non-null  float64\n",
      "dtypes: bool(2), float64(14), int64(3), object(3)\n",
      "memory usage: 3.7+ MB\n"
     ]
    }
   ],
   "source": [
    " data.info()"
   ]
  },
  {
   "cell_type": "markdown",
   "metadata": {},
   "source": [
    "Итак, в датафрейме 23 698 строк и 22 столбца. Это достаточно репрезентативная выборка, чтобы на ее основе можно было выделить основные параметры, влияющие на рыночную стоимость объектов недвижимости.\n",
    "\n",
    "Согласно документации к данным по столбцам:\n",
    "* `airports_nearest` — расстояние до ближайшего аэропорта в метрах (м)\n",
    "* `balcony` — число балконов\n",
    "* `ceiling_height` — высота потолков (м)\n",
    "* `cityCenters_nearest` — расстояние до центра города (м)\n",
    "* `days_exposition` — сколько дней было размещено объявление (от публикации до снятия)\n",
    "* `first_day_exposition` — дата публикации\n",
    "* `floor` — этаж\n",
    "* `floors_total` — всего этажей в доме\n",
    "* `is_apartment` — апартаменты (булев тип)\n",
    "* `kitchen_area` — площадь кухни в квадратных метрах (м²)\n",
    "* `last_price` — цена на момент снятия с публикации\n",
    "* `living_area` — жилая площадь в квадратных метрах (м²)\n",
    "* `locality_name` — название населённого пункта\n",
    "* `open_plan` — свободная планировка (булев тип)\n",
    "* `parks_around3000` — число парков в радиусе 3 км\n",
    "* `parks_nearest` — расстояние до ближайшего парка (м)\n",
    "* `ponds_around3000` — число водоёмов в радиусе 3 км\n",
    "* `ponds_nearest` — расстояние до ближайшего водоёма (м)\n",
    "* `rooms` — число комнат\n",
    "* `studio` — квартира-студия (булев тип)\n",
    "* `total_area` — общая площадь квартиры в квадратных метрах (м²)\n",
    "* `total_images` — число фотографий квартиры в объявлении\n",
    "\n",
    "Количество значений в столбцах различается. Значит, в данных есть пропущенные значения."
   ]
  },
  {
   "cell_type": "markdown",
   "metadata": {},
   "source": [
    "Для большей нагляности визуализируем количественные данные."
   ]
  },
  {
   "cell_type": "code",
   "execution_count": 5,
   "metadata": {},
   "outputs": [
    {
     "data": {
      "image/png": "[encoded data removed]",
      "text/plain": [
       "<Figure size 1080x1440 with 20 Axes>"
      ]
     },
     "metadata": {
      "needs_background": "light"
     },
     "output_type": "display_data"
    }
   ],
   "source": [
    "data.hist(figsize=(15, 20));"
   ]
  },
  {
   "cell_type": "markdown",
   "metadata": {},
   "source": [
    "На гистограммах выше мы видим распределение количественных данных в датафрейме.\n",
    "\n",
    "Проанализировав эти графики, мы можем получить первичное представление о данных и возможных аномалиях. На первый взгляд, аномалий нет, но для того, чтобы сделать выводы, проведем более глубокий анализ данных.\n"
   ]
  },
  {
   "cell_type": "markdown",
   "metadata": {},
   "source": [
    "## Предобработка данных"
   ]
  },
  {
   "cell_type": "markdown",
   "metadata": {
    "tags": [],
    "toc-hr-collapsed": true
   },
   "source": [
    "### Работа с пропусками"
   ]
  },
  {
   "cell_type": "markdown",
   "metadata": {},
   "source": [
    "#### Изучение данных на предмет пропусков"
   ]
  },
  {
   "cell_type": "markdown",
   "metadata": {},
   "source": [
    "Для начала определим, в каких столбцах есть пропуски и сколько их."
   ]
  },
  {
   "cell_type": "code",
   "execution_count": 6,
   "metadata": {},
   "outputs": [
    {
     "data": {
      "text/plain": [
       "is_apartment            20924\n",
       "parks_nearest           15620\n",
       "ponds_nearest           14589\n",
       "balcony                 11519\n",
       "ceiling_height           9195\n",
       "airports_nearest         5542\n",
       "cityCenters_nearest      5519\n",
       "ponds_around3000         5518\n",
       "parks_around3000         5518\n",
       "days_exposition          3181\n",
       "kitchen_area             2278\n",
       "living_area              1903\n",
       "floors_total               86\n",
       "locality_name              49\n",
       "total_images                0\n",
       "last_price                  0\n",
       "studio                      0\n",
       "floor                       0\n",
       "rooms                       0\n",
       "first_day_exposition        0\n",
       "total_area                  0\n",
       "open_plan                   0\n",
       "dtype: int64"
      ]
     },
     "execution_count": 6,
     "metadata": {},
     "output_type": "execute_result"
    }
   ],
   "source": [
    "data.isna().sum().sort_values(ascending=False)"
   ]
  },
  {
   "cell_type": "markdown",
   "metadata": {},
   "source": [
    "##### Апартаменты\n",
    "Как правило, апартаменты представляют собой небольшую долю от общего предложения объектов недвижимости. Соответственно, учитывая количество пропусков, заменим их на значение `False`."
   ]
  },
  {
   "cell_type": "code",
   "execution_count": 7,
   "metadata": {},
   "outputs": [],
   "source": [
    "data['is_apartment'] = data['is_apartment'].fillna(False)"
   ]
  },
  {
   "cell_type": "markdown",
   "metadata": {},
   "source": [
    "##### Расстояние до ближайшего парка и водоема\n",
    "Пропуски в значениях расстояния до ближайшего парка и водоема не будем заменять на какие-либо средние значения, так как для них нет очевидной замены."
   ]
  },
  {
   "cell_type": "markdown",
   "metadata": {},
   "source": [
    "##### Число балконов\n",
    "Можно предположить, что если число балконов не указано, то, скорее всего, в его квартире их нет. Поэтому заполним пропуски значением `0`."
   ]
  },
  {
   "cell_type": "code",
   "execution_count": 8,
   "metadata": {},
   "outputs": [],
   "source": [
    "data['balcony'] = data['balcony'].fillna(0)"
   ]
  },
  {
   "cell_type": "markdown",
   "metadata": {},
   "source": [
    "##### Высота потолков\n",
    "Пропуски в высоте потолков заполним медианным значением."
   ]
  },
  {
   "cell_type": "code",
   "execution_count": 9,
   "metadata": {},
   "outputs": [],
   "source": [
    "data['ceiling_height'] = data['ceiling_height'].fillna(data['ceiling_height'].median())"
   ]
  },
  {
   "cell_type": "markdown",
   "metadata": {},
   "source": [
    "##### Расстояние до ближайшего аэропорта и до центра города\n",
    "Расстояние до ближайшего аэропорта и до центра города не будем заменять на какие-либо усредненные значения, так как для них нет очевидной замены."
   ]
  },
  {
   "cell_type": "markdown",
   "metadata": {},
   "source": [
    "##### Число парков и водоемов в радиусе 3 км\n",
    "Аналогично можно предположить, что если количество парков и водоёмов в пределах 3 км не указано, то вероятнее всего, их нет. Поэтому заполним пропуски значением `0`."
   ]
  },
  {
   "cell_type": "code",
   "execution_count": 10,
   "metadata": {},
   "outputs": [],
   "source": [
    "data['parks_around3000'] = data['parks_around3000'].fillna(0)\n",
    "data['ponds_around3000'] = data['ponds_around3000'].fillna(0)"
   ]
  },
  {
   "cell_type": "markdown",
   "metadata": {},
   "source": [
    "##### Продолжительность размещения объявления\n",
    "Пропуски в продолжительности размещения объявления (от публикации до снятия) могут указывать на то, что объявление еще не было снято на момент выгрузки данных, поэтому не будем заменять их на какие-либо усредненные значения."
   ]
  },
  {
   "cell_type": "markdown",
   "metadata": {},
   "source": [
    "##### Жилая площадь и площадь кухни\n",
    "Пропущенные значения в данных о жилой площади и площади кухни мы заменим, используя средний коэффициент отношения жилой площади к общей площади и площади кухни к общей площади, соответственно."
   ]
  },
  {
   "cell_type": "code",
   "execution_count": 11,
   "metadata": {},
   "outputs": [],
   "source": [
    "data['living_area'] = data['living_area'].fillna(data['total_area']*data['living_area'].mean()/data['total_area'].mean())\n",
    "data['kitchen_area'] = data['kitchen_area'].fillna(data['total_area']*data['kitchen_area'].mean()/data['total_area'].mean())"
   ]
  },
  {
   "cell_type": "markdown",
   "metadata": {},
   "source": [
    "##### Количество этажей в доме и названия населенных пунктов\n",
    "Пропусков в данных столбцах очень мало, поэтому мы просто исключим строки с пропущенными значениями в них."
   ]
  },
  {
   "cell_type": "code",
   "execution_count": 12,
   "metadata": {},
   "outputs": [],
   "source": [
    "data = data.query('floors_total.notna() and locality_name.notna()')"
   ]
  },
  {
   "cell_type": "markdown",
   "metadata": {},
   "source": [
    "#### Результат\n",
    "Проверим количество пропусков после применения изменений."
   ]
  },
  {
   "cell_type": "code",
   "execution_count": 13,
   "metadata": {},
   "outputs": [
    {
     "data": {
      "text/plain": [
       "parks_nearest           15535\n",
       "ponds_nearest           14529\n",
       "airports_nearest         5524\n",
       "cityCenters_nearest      5501\n",
       "days_exposition          3171\n",
       "last_price                  0\n",
       "ponds_around3000            0\n",
       "parks_around3000            0\n",
       "locality_name               0\n",
       "balcony                     0\n",
       "kitchen_area                0\n",
       "total_images                0\n",
       "studio                      0\n",
       "is_apartment                0\n",
       "floor                       0\n",
       "living_area                 0\n",
       "floors_total                0\n",
       "ceiling_height              0\n",
       "rooms                       0\n",
       "first_day_exposition        0\n",
       "total_area                  0\n",
       "open_plan                   0\n",
       "dtype: int64"
      ]
     },
     "execution_count": 13,
     "metadata": {},
     "output_type": "execute_result"
    }
   ],
   "source": [
    "data.isna().sum().sort_values(ascending=False)"
   ]
  },
  {
   "cell_type": "markdown",
   "metadata": {},
   "source": [
    "#### Причины пропусков в данных"
   ]
  },
  {
   "cell_type": "markdown",
   "metadata": {},
   "source": [
    "Среди видов данных, в которых присутствуют пропуски, есть как вписанные пользователем (апартаменты, количество балконов, высота потолков), так и полученные автоматически на основе картографических данных (расстояние до ближайших аэропорта, парка, водоёма, и центра города, количество парков и водоёмов в пределах 3 км).\n",
    "\n",
    "Пропуски в первом типе данных объясняются человеческим фактором - возможно пользователь не посчитал нужным заполнять данные поля.\n",
    "\n",
    "Пропуски же во втором типе данных могут указывать на несовершенство алгоритмов, используемых для вычисления этих данных."
   ]
  },
  {
   "cell_type": "markdown",
   "metadata": {},
   "source": [
    "### Изменение типов данных"
   ]
  },
  {
   "cell_type": "markdown",
   "metadata": {},
   "source": [
    "В следующих столбцах необходимо изменить тип данных:\n",
    "* в `first_day_exposition` необходимо изменить тип данных на `datetime`, так как в нем содержатся дата и время публикации\n",
    "* в `is_apartment` необходимо изменить тип данных на `bool`, так как в нем содержатся признак, является ли объект недвижимости апартаментами\n",
    "* в `balcony`, `parks_around3000`, `ponds_around3000` необходимо изменить тип данных на `int`, так как данные в них могут содержать только целые значения (например, не может быть 1.5 балкона - либо 1, либо 2)"
   ]
  },
  {
   "cell_type": "code",
   "execution_count": 14,
   "metadata": {},
   "outputs": [],
   "source": [
    "data['first_day_exposition'] = pd.to_datetime(data['first_day_exposition'], format='%Y.%m.%dT%H:%M:%S')\n",
    "data['is_apartment'] = data['is_apartment'].astype(bool)\n",
    "data['balcony'] = data['balcony'].astype(int)\n",
    "data['parks_around3000'] = data['parks_around3000'].astype(int)\n",
    "data['ponds_around3000'] = data['ponds_around3000'].astype(int)"
   ]
  },
  {
   "cell_type": "markdown",
   "metadata": {},
   "source": [
    "Проверим тип данных после применения изменений."
   ]
  },
  {
   "cell_type": "code",
   "execution_count": 15,
   "metadata": {},
   "outputs": [
    {
     "name": "stdout",
     "output_type": "stream",
     "text": [
      "<class 'pandas.core.frame.DataFrame'>\n",
      "Int64Index: 23565 entries, 0 to 23698\n",
      "Data columns (total 22 columns):\n",
      " #   Column                Non-Null Count  Dtype         \n",
      "---  ------                --------------  -----         \n",
      " 0   total_images          23565 non-null  int64         \n",
      " 1   last_price            23565 non-null  float64       \n",
      " 2   total_area            23565 non-null  float64       \n",
      " 3   first_day_exposition  23565 non-null  datetime64[ns]\n",
      " 4   rooms                 23565 non-null  int64         \n",
      " 5   ceiling_height        23565 non-null  float64       \n",
      " 6   floors_total          23565 non-null  float64       \n",
      " 7   living_area           23565 non-null  float64       \n",
      " 8   floor                 23565 non-null  int64         \n",
      " 9   is_apartment          23565 non-null  bool          \n",
      " 10  studio                23565 non-null  bool          \n",
      " 11  open_plan             23565 non-null  bool          \n",
      " 12  kitchen_area          23565 non-null  float64       \n",
      " 13  balcony               23565 non-null  int64         \n",
      " 14  locality_name         23565 non-null  object        \n",
      " 15  airports_nearest      18041 non-null  float64       \n",
      " 16  cityCenters_nearest   18064 non-null  float64       \n",
      " 17  parks_around3000      23565 non-null  int64         \n",
      " 18  parks_nearest         8030 non-null   float64       \n",
      " 19  ponds_around3000      23565 non-null  int64         \n",
      " 20  ponds_nearest         9036 non-null   float64       \n",
      " 21  days_exposition       20394 non-null  float64       \n",
      "dtypes: bool(3), datetime64[ns](1), float64(11), int64(6), object(1)\n",
      "memory usage: 3.7+ MB\n"
     ]
    }
   ],
   "source": [
    "data.info()"
   ]
  },
  {
   "cell_type": "markdown",
   "metadata": {
    "toc-hr-collapsed": true
   },
   "source": [
    "### Обработка дубликатов"
   ]
  },
  {
   "cell_type": "markdown",
   "metadata": {},
   "source": [
    "#### Явные дубликаты"
   ]
  },
  {
   "cell_type": "markdown",
   "metadata": {},
   "source": [
    "Проверим наличие явных дубликатов."
   ]
  },
  {
   "cell_type": "code",
   "execution_count": 16,
   "metadata": {},
   "outputs": [
    {
     "data": {
      "text/plain": [
       "0"
      ]
     },
     "execution_count": 16,
     "metadata": {},
     "output_type": "execute_result"
    }
   ],
   "source": [
    "data.duplicated().sum()"
   ]
  },
  {
   "cell_type": "markdown",
   "metadata": {},
   "source": [
    "Так как явных дубликатов в датафрейме не оказалось, перейдем к неявным дубликатам."
   ]
  },
  {
   "cell_type": "markdown",
   "metadata": {},
   "source": [
    "#### Неявные дубликаты"
   ]
  },
  {
   "cell_type": "markdown",
   "metadata": {},
   "source": [
    "В датафрейме есть всего один столбец с текстовыми данными - `locality_name`. Изучим уникальные значения в нем."
   ]
  },
  {
   "cell_type": "code",
   "execution_count": 17,
   "metadata": {
    "scrolled": true,
    "tags": []
   },
   "outputs": [
    {
     "data": {
      "text/plain": [
       "array(['Санкт-Петербург', 'посёлок Шушары', 'городской посёлок Янино-1',\n",
       "       'посёлок Парголово', 'посёлок Мурино', 'Ломоносов', 'Сертолово',\n",
       "       'Петергоф', 'Пушкин', 'деревня Кудрово', 'Коммунар', 'Колпино',\n",
       "       'поселок городского типа Красный Бор', 'Гатчина', 'поселок Мурино',\n",
       "       'деревня Фёдоровское', 'Выборг', 'Кронштадт', 'Кировск',\n",
       "       'деревня Новое Девяткино', 'посёлок Металлострой',\n",
       "       'посёлок городского типа Лебяжье',\n",
       "       'посёлок городского типа Сиверский', 'поселок Молодцово',\n",
       "       'поселок городского типа Кузьмоловский',\n",
       "       'садовое товарищество Новая Ропша', 'Павловск',\n",
       "       'деревня Пикколово', 'Всеволожск', 'Волхов', 'Кингисепп',\n",
       "       'Приозерск', 'Сестрорецк', 'деревня Куттузи', 'посёлок Аннино',\n",
       "       'поселок городского типа Ефимовский', 'посёлок Плодовое',\n",
       "       'деревня Заклинье', 'поселок Торковичи', 'поселок Первомайское',\n",
       "       'Красное Село', 'посёлок Понтонный', 'Сясьстрой', 'деревня Старая',\n",
       "       'деревня Лесколово', 'посёлок Новый Свет', 'Сланцы',\n",
       "       'село Путилово', 'Ивангород', 'Мурино', 'Шлиссельбург',\n",
       "       'Никольское', 'Зеленогорск', 'Сосновый Бор', 'поселок Новый Свет',\n",
       "       'деревня Оржицы', 'деревня Кальтино', 'Кудрово',\n",
       "       'поселок Романовка', 'посёлок Бугры', 'поселок Бугры',\n",
       "       'поселок городского типа Рощино', 'Кириши', 'Луга', 'Волосово',\n",
       "       'Отрадное', 'село Павлово', 'поселок Оредеж', 'село Копорье',\n",
       "       'посёлок городского типа Красный Бор', 'посёлок Молодёжное',\n",
       "       'Тихвин', 'посёлок Победа', 'деревня Нурма',\n",
       "       'поселок городского типа Синявино', 'Тосно',\n",
       "       'посёлок городского типа Кузьмоловский', 'посёлок Стрельна',\n",
       "       'Бокситогорск', 'посёлок Александровская', 'деревня Лопухинка',\n",
       "       'Пикалёво', 'поселок Терволово',\n",
       "       'поселок городского типа Советский', 'Подпорожье',\n",
       "       'посёлок Петровское', 'посёлок городского типа Токсово',\n",
       "       'поселок Сельцо', 'посёлок городского типа Вырица',\n",
       "       'деревня Кипень', 'деревня Келози', 'деревня Вартемяги',\n",
       "       'посёлок Тельмана', 'поселок Севастьяново',\n",
       "       'городской поселок Большая Ижора', 'городской посёлок Павлово',\n",
       "       'деревня Агалатово', 'посёлок Новогорелово',\n",
       "       'городской посёлок Лесогорский', 'деревня Лаголово',\n",
       "       'поселок Цвелодубово', 'поселок городского типа Рахья',\n",
       "       'поселок городского типа Вырица', 'деревня Белогорка',\n",
       "       'поселок Заводской', 'городской посёлок Новоселье',\n",
       "       'деревня Большие Колпаны', 'деревня Горбунки', 'деревня Батово',\n",
       "       'деревня Заневка', 'деревня Иссад', 'Приморск',\n",
       "       'городской посёлок Фёдоровское', 'деревня Мистолово',\n",
       "       'Новая Ладога', 'поселок Зимитицы', 'поселок Барышево',\n",
       "       'деревня Разметелево', 'поселок городского типа имени Свердлова',\n",
       "       'деревня Пеники', 'поселок Рябово', 'деревня Пудомяги',\n",
       "       'поселок станции Корнево', 'деревня Низино', 'деревня Бегуницы',\n",
       "       'посёлок Поляны', 'городской посёлок Мга', 'поселок Елизаветино',\n",
       "       'посёлок городского типа Кузнечное', 'деревня Колтуши',\n",
       "       'поселок Запорожское', 'посёлок городского типа Рощино',\n",
       "       'деревня Гостилицы', 'деревня Малое Карлино',\n",
       "       'посёлок Мичуринское', 'посёлок городского типа имени Морозова',\n",
       "       'посёлок Песочный', 'посёлок Сосново', 'деревня Аро',\n",
       "       'поселок Ильичёво', 'посёлок городского типа Тайцы',\n",
       "       'деревня Малое Верево', 'деревня Извара', 'поселок станции Вещево',\n",
       "       'село Паша', 'деревня Калитино',\n",
       "       'посёлок городского типа Ульяновка', 'деревня Чудской Бор',\n",
       "       'поселок городского типа Дубровка', 'деревня Мины',\n",
       "       'поселок Войсковицы', 'посёлок городского типа имени Свердлова',\n",
       "       'деревня Коркино', 'посёлок Ропша',\n",
       "       'поселок городского типа Приладожский', 'посёлок Щеглово',\n",
       "       'посёлок Гаврилово', 'Лодейное Поле', 'деревня Рабитицы',\n",
       "       'поселок городского типа Никольский', 'деревня Кузьмолово',\n",
       "       'деревня Малые Колпаны', 'поселок Тельмана',\n",
       "       'посёлок Петро-Славянка', 'городской посёлок Назия',\n",
       "       'посёлок Репино', 'посёлок Ильичёво', 'поселок Углово',\n",
       "       'поселок Старая Малукса', 'садовое товарищество Рахья',\n",
       "       'поселок Аннино', 'поселок Победа', 'деревня Меньково',\n",
       "       'деревня Старые Бегуницы', 'посёлок Сапёрный', 'поселок Семрино',\n",
       "       'поселок Гаврилово', 'поселок Глажево', 'поселок Кобринское',\n",
       "       'деревня Гарболово', 'деревня Юкки',\n",
       "       'поселок станции Приветнинское', 'деревня Мануйлово',\n",
       "       'деревня Пчева', 'поселок Поляны', 'поселок Цвылёво',\n",
       "       'поселок Мельниково', 'посёлок Пудость', 'посёлок Усть-Луга',\n",
       "       'Светогорск', 'Любань', 'поселок Селезнёво',\n",
       "       'поселок городского типа Рябово', 'Каменногорск', 'деревня Кривко',\n",
       "       'поселок Глебычево', 'деревня Парицы', 'поселок Жилпосёлок',\n",
       "       'посёлок городского типа Мга', 'городской поселок Янино-1',\n",
       "       'посёлок Войскорово', 'село Никольское', 'посёлок Терволово',\n",
       "       'поселок Стеклянный', 'посёлок городского типа Важины',\n",
       "       'посёлок Мыза-Ивановка', 'село Русско-Высоцкое',\n",
       "       'поселок городского типа Лебяжье',\n",
       "       'поселок городского типа Форносово', 'село Старая Ладога',\n",
       "       'поселок Житково', 'городской посёлок Виллози', 'деревня Лампово',\n",
       "       'деревня Шпаньково', 'деревня Лаврики', 'посёлок Сумино',\n",
       "       'посёлок Возрождение', 'деревня Старосиверская',\n",
       "       'посёлок Кикерино', 'поселок Возрождение',\n",
       "       'деревня Старое Хинколово', 'посёлок Пригородный',\n",
       "       'посёлок Торфяное', 'городской посёлок Будогощь',\n",
       "       'поселок Суходолье', 'поселок Красная Долина', 'деревня Хапо-Ое',\n",
       "       'поселок городского типа Дружная Горка', 'поселок Лисий Нос',\n",
       "       'деревня Яльгелево', 'посёлок Стеклянный', 'село Рождествено',\n",
       "       'деревня Старополье', 'посёлок Левашово', 'деревня Сяськелево',\n",
       "       'деревня Камышовка',\n",
       "       'садоводческое некоммерческое товарищество Лесная Поляна',\n",
       "       'деревня Хязельки', 'поселок Жилгородок',\n",
       "       'посёлок городского типа Павлово', 'деревня Ялгино',\n",
       "       'поселок Новый Учхоз', 'городской посёлок Рощино',\n",
       "       'поселок Гончарово', 'поселок Почап', 'посёлок Сапёрное',\n",
       "       'посёлок Платформа 69-й километр', 'поселок Каложицы',\n",
       "       'деревня Фалилеево', 'деревня Пельгора',\n",
       "       'поселок городского типа Лесогорский', 'деревня Торошковичи',\n",
       "       'посёлок Белоостров', 'посёлок Алексеевка', 'поселок Серебрянский',\n",
       "       'поселок Лукаши', 'поселок Петровское', 'деревня Щеглово',\n",
       "       'поселок Мичуринское', 'деревня Тарасово', 'поселок Кингисеппский',\n",
       "       'посёлок при железнодорожной станции Вещево', 'поселок Ушаки',\n",
       "       'деревня Котлы', 'деревня Сижно', 'деревня Торосово',\n",
       "       'посёлок Форт Красная Горка', 'деревня Новолисино',\n",
       "       'посёлок станции Громово', 'деревня Глинка', 'посёлок Мельниково',\n",
       "       'поселок городского типа Назия', 'деревня Старая Пустошь',\n",
       "       'поселок Коммунары', 'поселок Починок',\n",
       "       'посёлок городского типа Вознесенье', 'деревня Разбегаево',\n",
       "       'посёлок городского типа Рябово', 'поселок Гладкое',\n",
       "       'посёлок при железнодорожной станции Приветнинское',\n",
       "       'поселок Тёсово-4', 'посёлок Жилгородок', 'деревня Бор',\n",
       "       'посёлок Коробицыно', 'деревня Большая Вруда', 'деревня Курковицы',\n",
       "       'посёлок Лисий Нос', 'городской посёлок Советский',\n",
       "       'посёлок Кобралово', 'деревня Суоранда', 'поселок Кобралово',\n",
       "       'поселок городского типа Кондратьево',\n",
       "       'коттеджный поселок Счастье', 'поселок Любань', 'деревня Реброво',\n",
       "       'деревня Зимитицы', 'деревня Тойворово', 'поселок Семиозерье',\n",
       "       'поселок Лесное', 'поселок Совхозный', 'поселок Усть-Луга',\n",
       "       'посёлок Ленинское', 'посёлок Суйда',\n",
       "       'посёлок городского типа Форносово', 'деревня Нижние Осельки',\n",
       "       'посёлок станции Свирь', 'поселок Перово', 'Высоцк',\n",
       "       'поселок Гарболово', 'село Шум', 'поселок Котельский',\n",
       "       'поселок станции Лужайка', 'деревня Большая Пустомержа',\n",
       "       'поселок Красносельское', 'деревня Вахнова Кара', 'деревня Пижма',\n",
       "       'коттеджный поселок Кивеннапа Север', 'поселок Коробицыно',\n",
       "       'поселок Ромашки', 'посёлок Перово', 'деревня Каськово',\n",
       "       'деревня Куровицы', 'посёлок Плоское', 'поселок Сумино',\n",
       "       'поселок городского типа Большая Ижора', 'поселок Кирпичное',\n",
       "       'деревня Ям-Тесово', 'деревня Раздолье', 'деревня Терпилицы',\n",
       "       'поселок городского типа Токсово', 'посёлок Шугозеро',\n",
       "       'деревня Ваганово', 'поселок Пушное', 'садовое товарищество Садко',\n",
       "       'посёлок Усть-Ижора', 'деревня Выскатка',\n",
       "       'городской посёлок Свирьстрой', 'поселок Громово',\n",
       "       'деревня Кисельня', 'посёлок Старая Малукса',\n",
       "       'деревня Трубников Бор', 'поселок Калитино',\n",
       "       'посёлок Высокоключевой', 'садовое товарищество Приладожский',\n",
       "       'посёлок Пансионат Зелёный Бор', 'деревня Ненимяки',\n",
       "       'поселок Пансионат Зелёный Бор', 'деревня Снегирёвка',\n",
       "       'деревня Рапполово', 'деревня Пустынка', 'поселок Рабитицы',\n",
       "       'деревня Большой Сабск', 'деревня Русско', 'деревня Лупполово',\n",
       "       'деревня Большое Рейзино', 'деревня Малая Романовка',\n",
       "       'поселок Дружноселье', 'поселок Пчевжа', 'поселок Володарское',\n",
       "       'деревня Нижняя', 'коттеджный посёлок Лесное', 'деревня Тихковицы',\n",
       "       'деревня Борисова Грива', 'посёлок Дзержинского'], dtype=object)"
      ]
     },
     "execution_count": 17,
     "metadata": {},
     "output_type": "execute_result"
    }
   ],
   "source": [
    "data['locality_name'].unique()"
   ]
  },
  {
   "cell_type": "markdown",
   "metadata": {},
   "source": [
    "В названиях населенных пунктов возникли дубликаты из-за использования буквы \"ё\" в некоторых словах (например, \"поселок\" - \"посёлок\"), а также из-за различных вариаций написания одного и того же типа населенных пунктов (например, \"поселок городского типа\", \"городской поселок\" и т.д.).\n",
    "\n",
    "Устраним дубликаты."
   ]
  },
  {
   "cell_type": "code",
   "execution_count": 18,
   "metadata": {},
   "outputs": [],
   "source": [
    "data['locality_name'] = (\n",
    "    data['locality_name']\n",
    "    .str.replace('ё', 'е')\n",
    "    .replace(['городской поселок', 'поселок городского типа', 'поселок станции', 'поселок при железнодорожной станции', 'коттеджный поселок'], 'поселок', regex=True)\n",
    ")"
   ]
  },
  {
   "cell_type": "markdown",
   "metadata": {},
   "source": [
    "### Вывод"
   ]
  },
  {
   "cell_type": "markdown",
   "metadata": {},
   "source": [
    "В результате предобработки данных мы заменили пропуски, где это было возможно, заменили типы данных на более подходящие, а также заменили названия некоторых населенных пунктов, чтобы избавиться от дубликатов."
   ]
  },
  {
   "cell_type": "code",
   "execution_count": 19,
   "metadata": {},
   "outputs": [
    {
     "name": "stdout",
     "output_type": "stream",
     "text": [
      "<class 'pandas.core.frame.DataFrame'>\n",
      "Int64Index: 23565 entries, 0 to 23698\n",
      "Data columns (total 22 columns):\n",
      " #   Column                Non-Null Count  Dtype         \n",
      "---  ------                --------------  -----         \n",
      " 0   total_images          23565 non-null  int64         \n",
      " 1   last_price            23565 non-null  float64       \n",
      " 2   total_area            23565 non-null  float64       \n",
      " 3   first_day_exposition  23565 non-null  datetime64[ns]\n",
      " 4   rooms                 23565 non-null  int64         \n",
      " 5   ceiling_height        23565 non-null  float64       \n",
      " 6   floors_total          23565 non-null  float64       \n",
      " 7   living_area           23565 non-null  float64       \n",
      " 8   floor                 23565 non-null  int64         \n",
      " 9   is_apartment          23565 non-null  bool          \n",
      " 10  studio                23565 non-null  bool          \n",
      " 11  open_plan             23565 non-null  bool          \n",
      " 12  kitchen_area          23565 non-null  float64       \n",
      " 13  balcony               23565 non-null  int64         \n",
      " 14  locality_name         23565 non-null  object        \n",
      " 15  airports_nearest      18041 non-null  float64       \n",
      " 16  cityCenters_nearest   18064 non-null  float64       \n",
      " 17  parks_around3000      23565 non-null  int64         \n",
      " 18  parks_nearest         8030 non-null   float64       \n",
      " 19  ponds_around3000      23565 non-null  int64         \n",
      " 20  ponds_nearest         9036 non-null   float64       \n",
      " 21  days_exposition       20394 non-null  float64       \n",
      "dtypes: bool(3), datetime64[ns](1), float64(11), int64(6), object(1)\n",
      "memory usage: 3.7+ MB\n"
     ]
    }
   ],
   "source": [
    "data.info()"
   ]
  },
  {
   "cell_type": "markdown",
   "metadata": {},
   "source": [
    "## Добавление новых столбцов"
   ]
  },
  {
   "cell_type": "markdown",
   "metadata": {},
   "source": [
    "Добавим в датафрейм новые столбцы с дополнительной информацией:\n",
    "* `price_per_m2` - цена одного квадратного метра\n",
    "* `day_of_week_of_exposition` - день недели публикации объявления\n",
    "* `month_of_exposition` - месяц публикации объявления\n",
    "* `year_of_exposition` - год публикации объявления\n",
    "* `floor_type` - тип этажа квартиры\n",
    "* `cityCenters_nearest_km` - расстояние до центра города в километрах"
   ]
  },
  {
   "cell_type": "code",
   "execution_count": 20,
   "metadata": {},
   "outputs": [],
   "source": [
    "data['price_per_m2'] = round(data['last_price']/data['total_area'],2)\n",
    "data['day_of_week_of_exposition'] = data['first_day_exposition'].dt.weekday\n",
    "data['month_of_exposition'] = data['first_day_exposition'].dt.month\n",
    "data['year_of_exposition'] = data['first_day_exposition'].dt.year\n",
    "\n",
    "#для опеределения типа этажа необходимо написать функцию, которая будет присваивать этот тип\n",
    "def floor_categorisation(floor, floors_total):\n",
    "    if floor == 1:\n",
    "        return 'первый'\n",
    "    elif floor == floors_total:\n",
    "        return 'последний'\n",
    "    else:\n",
    "        return 'другой'\n",
    "#применим эту функцию к датафрейму\n",
    "data['floor_type'] = data.apply(lambda row: floor_categorisation(row['floor'], row['floors_total']), axis=1)\n",
    "\n",
    "data['cityCenters_nearest_km'] = round(data['cityCenters_nearest']/1000)"
   ]
  },
  {
   "cell_type": "markdown",
   "metadata": {},
   "source": [
    "### Вывод"
   ]
  },
  {
   "cell_type": "markdown",
   "metadata": {},
   "source": [
    "Таким образом, мы смогли обогатить датафрейм дополнительной информацией, которую мы сможем использовать для анализа данных."
   ]
  },
  {
   "cell_type": "code",
   "execution_count": 21,
   "metadata": {},
   "outputs": [
    {
     "data": {
      "text/html": [
       "<div>\n",
       "<style scoped>\n",
       "    .dataframe tbody tr th:only-of-type {\n",
       "        vertical-align: middle;\n",
       "    }\n",
       "\n",
       "    .dataframe tbody tr th {\n",
       "        vertical-align: top;\n",
       "    }\n",
       "\n",
       "    .dataframe thead th {\n",
       "        text-align: right;\n",
       "    }\n",
       "</style>\n",
       "<table border=\"1\" class=\"dataframe\">\n",
       "  <thead>\n",
       "    <tr style=\"text-align: right;\">\n",
       "      <th></th>\n",
       "      <th>total_images</th>\n",
       "      <th>last_price</th>\n",
       "      <th>total_area</th>\n",
       "      <th>first_day_exposition</th>\n",
       "      <th>rooms</th>\n",
       "      <th>ceiling_height</th>\n",
       "      <th>floors_total</th>\n",
       "      <th>living_area</th>\n",
       "      <th>floor</th>\n",
       "      <th>is_apartment</th>\n",
       "      <th>...</th>\n",
       "      <th>parks_nearest</th>\n",
       "      <th>ponds_around3000</th>\n",
       "      <th>ponds_nearest</th>\n",
       "      <th>days_exposition</th>\n",
       "      <th>price_per_m2</th>\n",
       "      <th>day_of_week_of_exposition</th>\n",
       "      <th>month_of_exposition</th>\n",
       "      <th>year_of_exposition</th>\n",
       "      <th>floor_type</th>\n",
       "      <th>cityCenters_nearest_km</th>\n",
       "    </tr>\n",
       "  </thead>\n",
       "  <tbody>\n",
       "    <tr>\n",
       "      <th>17634</th>\n",
       "      <td>19</td>\n",
       "      <td>5000000.0</td>\n",
       "      <td>50.0</td>\n",
       "      <td>2017-10-12</td>\n",
       "      <td>3</td>\n",
       "      <td>2.65</td>\n",
       "      <td>5.0</td>\n",
       "      <td>30.0</td>\n",
       "      <td>5</td>\n",
       "      <td>False</td>\n",
       "      <td>...</td>\n",
       "      <td>NaN</td>\n",
       "      <td>1</td>\n",
       "      <td>668.0</td>\n",
       "      <td>437.0</td>\n",
       "      <td>100000.00</td>\n",
       "      <td>3</td>\n",
       "      <td>10</td>\n",
       "      <td>2017</td>\n",
       "      <td>последний</td>\n",
       "      <td>5.0</td>\n",
       "    </tr>\n",
       "    <tr>\n",
       "      <th>22920</th>\n",
       "      <td>9</td>\n",
       "      <td>1100000.0</td>\n",
       "      <td>29.0</td>\n",
       "      <td>2018-09-15</td>\n",
       "      <td>1</td>\n",
       "      <td>2.50</td>\n",
       "      <td>5.0</td>\n",
       "      <td>16.5</td>\n",
       "      <td>2</td>\n",
       "      <td>False</td>\n",
       "      <td>...</td>\n",
       "      <td>NaN</td>\n",
       "      <td>0</td>\n",
       "      <td>NaN</td>\n",
       "      <td>23.0</td>\n",
       "      <td>37931.03</td>\n",
       "      <td>5</td>\n",
       "      <td>9</td>\n",
       "      <td>2018</td>\n",
       "      <td>другой</td>\n",
       "      <td>NaN</td>\n",
       "    </tr>\n",
       "    <tr>\n",
       "      <th>22446</th>\n",
       "      <td>7</td>\n",
       "      <td>3950000.0</td>\n",
       "      <td>40.0</td>\n",
       "      <td>2017-02-19</td>\n",
       "      <td>1</td>\n",
       "      <td>2.65</td>\n",
       "      <td>26.0</td>\n",
       "      <td>15.0</td>\n",
       "      <td>4</td>\n",
       "      <td>False</td>\n",
       "      <td>...</td>\n",
       "      <td>NaN</td>\n",
       "      <td>0</td>\n",
       "      <td>NaN</td>\n",
       "      <td>6.0</td>\n",
       "      <td>98750.00</td>\n",
       "      <td>6</td>\n",
       "      <td>2</td>\n",
       "      <td>2017</td>\n",
       "      <td>другой</td>\n",
       "      <td>18.0</td>\n",
       "    </tr>\n",
       "    <tr>\n",
       "      <th>21085</th>\n",
       "      <td>0</td>\n",
       "      <td>7000000.0</td>\n",
       "      <td>34.7</td>\n",
       "      <td>2018-09-23</td>\n",
       "      <td>1</td>\n",
       "      <td>2.70</td>\n",
       "      <td>9.0</td>\n",
       "      <td>19.8</td>\n",
       "      <td>3</td>\n",
       "      <td>False</td>\n",
       "      <td>...</td>\n",
       "      <td>NaN</td>\n",
       "      <td>0</td>\n",
       "      <td>NaN</td>\n",
       "      <td>60.0</td>\n",
       "      <td>201729.11</td>\n",
       "      <td>6</td>\n",
       "      <td>9</td>\n",
       "      <td>2018</td>\n",
       "      <td>другой</td>\n",
       "      <td>23.0</td>\n",
       "    </tr>\n",
       "    <tr>\n",
       "      <th>14719</th>\n",
       "      <td>20</td>\n",
       "      <td>5900000.0</td>\n",
       "      <td>60.0</td>\n",
       "      <td>2018-10-22</td>\n",
       "      <td>2</td>\n",
       "      <td>2.60</td>\n",
       "      <td>28.0</td>\n",
       "      <td>30.0</td>\n",
       "      <td>22</td>\n",
       "      <td>False</td>\n",
       "      <td>...</td>\n",
       "      <td>NaN</td>\n",
       "      <td>0</td>\n",
       "      <td>NaN</td>\n",
       "      <td>53.0</td>\n",
       "      <td>98333.33</td>\n",
       "      <td>0</td>\n",
       "      <td>10</td>\n",
       "      <td>2018</td>\n",
       "      <td>другой</td>\n",
       "      <td>20.0</td>\n",
       "    </tr>\n",
       "    <tr>\n",
       "      <th>12828</th>\n",
       "      <td>6</td>\n",
       "      <td>6690000.0</td>\n",
       "      <td>50.6</td>\n",
       "      <td>2017-04-27</td>\n",
       "      <td>2</td>\n",
       "      <td>3.10</td>\n",
       "      <td>5.0</td>\n",
       "      <td>40.0</td>\n",
       "      <td>5</td>\n",
       "      <td>False</td>\n",
       "      <td>...</td>\n",
       "      <td>696.0</td>\n",
       "      <td>1</td>\n",
       "      <td>54.0</td>\n",
       "      <td>69.0</td>\n",
       "      <td>132213.44</td>\n",
       "      <td>3</td>\n",
       "      <td>4</td>\n",
       "      <td>2017</td>\n",
       "      <td>последний</td>\n",
       "      <td>2.0</td>\n",
       "    </tr>\n",
       "    <tr>\n",
       "      <th>3802</th>\n",
       "      <td>16</td>\n",
       "      <td>40000000.0</td>\n",
       "      <td>220.0</td>\n",
       "      <td>2017-11-12</td>\n",
       "      <td>4</td>\n",
       "      <td>2.94</td>\n",
       "      <td>5.0</td>\n",
       "      <td>130.3</td>\n",
       "      <td>2</td>\n",
       "      <td>False</td>\n",
       "      <td>...</td>\n",
       "      <td>93.0</td>\n",
       "      <td>0</td>\n",
       "      <td>NaN</td>\n",
       "      <td>89.0</td>\n",
       "      <td>181818.18</td>\n",
       "      <td>6</td>\n",
       "      <td>11</td>\n",
       "      <td>2017</td>\n",
       "      <td>другой</td>\n",
       "      <td>10.0</td>\n",
       "    </tr>\n",
       "    <tr>\n",
       "      <th>8715</th>\n",
       "      <td>3</td>\n",
       "      <td>3550000.0</td>\n",
       "      <td>32.0</td>\n",
       "      <td>2019-03-03</td>\n",
       "      <td>1</td>\n",
       "      <td>2.50</td>\n",
       "      <td>5.0</td>\n",
       "      <td>18.0</td>\n",
       "      <td>4</td>\n",
       "      <td>False</td>\n",
       "      <td>...</td>\n",
       "      <td>338.0</td>\n",
       "      <td>0</td>\n",
       "      <td>NaN</td>\n",
       "      <td>17.0</td>\n",
       "      <td>110937.50</td>\n",
       "      <td>6</td>\n",
       "      <td>3</td>\n",
       "      <td>2019</td>\n",
       "      <td>другой</td>\n",
       "      <td>13.0</td>\n",
       "    </tr>\n",
       "    <tr>\n",
       "      <th>14660</th>\n",
       "      <td>11</td>\n",
       "      <td>2950000.0</td>\n",
       "      <td>74.0</td>\n",
       "      <td>2017-12-05</td>\n",
       "      <td>3</td>\n",
       "      <td>2.65</td>\n",
       "      <td>4.0</td>\n",
       "      <td>45.0</td>\n",
       "      <td>3</td>\n",
       "      <td>False</td>\n",
       "      <td>...</td>\n",
       "      <td>NaN</td>\n",
       "      <td>0</td>\n",
       "      <td>NaN</td>\n",
       "      <td>96.0</td>\n",
       "      <td>39864.86</td>\n",
       "      <td>1</td>\n",
       "      <td>12</td>\n",
       "      <td>2017</td>\n",
       "      <td>другой</td>\n",
       "      <td>NaN</td>\n",
       "    </tr>\n",
       "    <tr>\n",
       "      <th>10713</th>\n",
       "      <td>8</td>\n",
       "      <td>7800000.0</td>\n",
       "      <td>90.0</td>\n",
       "      <td>2017-06-04</td>\n",
       "      <td>4</td>\n",
       "      <td>2.65</td>\n",
       "      <td>4.0</td>\n",
       "      <td>66.0</td>\n",
       "      <td>1</td>\n",
       "      <td>False</td>\n",
       "      <td>...</td>\n",
       "      <td>531.0</td>\n",
       "      <td>2</td>\n",
       "      <td>383.0</td>\n",
       "      <td>261.0</td>\n",
       "      <td>86666.67</td>\n",
       "      <td>6</td>\n",
       "      <td>6</td>\n",
       "      <td>2017</td>\n",
       "      <td>первый</td>\n",
       "      <td>4.0</td>\n",
       "    </tr>\n",
       "  </tbody>\n",
       "</table>\n",
       "<p>10 rows × 28 columns</p>\n",
       "</div>"
      ],
      "text/plain": [
       "       total_images  last_price  total_area first_day_exposition  rooms  \\\n",
       "17634            19   5000000.0        50.0           2017-10-12      3   \n",
       "22920             9   1100000.0        29.0           2018-09-15      1   \n",
       "22446             7   3950000.0        40.0           2017-02-19      1   \n",
       "21085             0   7000000.0        34.7           2018-09-23      1   \n",
       "14719            20   5900000.0        60.0           2018-10-22      2   \n",
       "12828             6   6690000.0        50.6           2017-04-27      2   \n",
       "3802             16  40000000.0       220.0           2017-11-12      4   \n",
       "8715              3   3550000.0        32.0           2019-03-03      1   \n",
       "14660            11   2950000.0        74.0           2017-12-05      3   \n",
       "10713             8   7800000.0        90.0           2017-06-04      4   \n",
       "\n",
       "       ceiling_height  floors_total  living_area  floor  is_apartment  ...  \\\n",
       "17634            2.65           5.0         30.0      5         False  ...   \n",
       "22920            2.50           5.0         16.5      2         False  ...   \n",
       "22446            2.65          26.0         15.0      4         False  ...   \n",
       "21085            2.70           9.0         19.8      3         False  ...   \n",
       "14719            2.60          28.0         30.0     22         False  ...   \n",
       "12828            3.10           5.0         40.0      5         False  ...   \n",
       "3802             2.94           5.0        130.3      2         False  ...   \n",
       "8715             2.50           5.0         18.0      4         False  ...   \n",
       "14660            2.65           4.0         45.0      3         False  ...   \n",
       "10713            2.65           4.0         66.0      1         False  ...   \n",
       "\n",
       "       parks_nearest  ponds_around3000  ponds_nearest  days_exposition  \\\n",
       "17634            NaN                 1          668.0            437.0   \n",
       "22920            NaN                 0            NaN             23.0   \n",
       "22446            NaN                 0            NaN              6.0   \n",
       "21085            NaN                 0            NaN             60.0   \n",
       "14719            NaN                 0            NaN             53.0   \n",
       "12828          696.0                 1           54.0             69.0   \n",
       "3802            93.0                 0            NaN             89.0   \n",
       "8715           338.0                 0            NaN             17.0   \n",
       "14660            NaN                 0            NaN             96.0   \n",
       "10713          531.0                 2          383.0            261.0   \n",
       "\n",
       "      price_per_m2  day_of_week_of_exposition  month_of_exposition  \\\n",
       "17634    100000.00                          3                   10   \n",
       "22920     37931.03                          5                    9   \n",
       "22446     98750.00                          6                    2   \n",
       "21085    201729.11                          6                    9   \n",
       "14719     98333.33                          0                   10   \n",
       "12828    132213.44                          3                    4   \n",
       "3802     181818.18                          6                   11   \n",
       "8715     110937.50                          6                    3   \n",
       "14660     39864.86                          1                   12   \n",
       "10713     86666.67                          6                    6   \n",
       "\n",
       "       year_of_exposition  floor_type  cityCenters_nearest_km  \n",
       "17634                2017   последний                     5.0  \n",
       "22920                2018      другой                     NaN  \n",
       "22446                2017      другой                    18.0  \n",
       "21085                2018      другой                    23.0  \n",
       "14719                2018      другой                    20.0  \n",
       "12828                2017   последний                     2.0  \n",
       "3802                 2017      другой                    10.0  \n",
       "8715                 2019      другой                    13.0  \n",
       "14660                2017      другой                     NaN  \n",
       "10713                2017      первый                     4.0  \n",
       "\n",
       "[10 rows x 28 columns]"
      ]
     },
     "execution_count": 21,
     "metadata": {},
     "output_type": "execute_result"
    }
   ],
   "source": [
    "data.sample(10)"
   ]
  },
  {
   "cell_type": "markdown",
   "metadata": {},
   "source": [
    "## Проведение исследовательского анализа данных"
   ]
  },
  {
   "cell_type": "markdown",
   "metadata": {
    "tags": [],
    "toc-hr-collapsed": true
   },
   "source": [
    "### Обработка и удаление аномалий"
   ]
  },
  {
   "cell_type": "markdown",
   "metadata": {},
   "source": [
    "Для того, чтобы аномальные значения не исказили результаты исследования, необходимо их выявить и исключить из датафрейма.\n",
    "\n",
    "Посторим гистограммы и изучим распределение значений следующих данных:\n",
    "* общая площадь\n",
    "* жилая площадь\n",
    "* площадь кухни\n",
    "* цена объекта\n",
    "* количество комнат\n",
    "* высота потолков\n",
    "* тип этажа\n",
    "* общее количество этажей\n",
    "* расстояние до центра города (в метрах)\n",
    "* расстояние до ближайшего парка"
   ]
  },
  {
   "cell_type": "markdown",
   "metadata": {},
   "source": [
    "#### Общая площадь"
   ]
  },
  {
   "cell_type": "code",
   "execution_count": 22,
   "metadata": {},
   "outputs": [
    {
     "data": {
      "image/png": "[encoded data removed]",
      "text/plain": [
       "<Figure size 864x360 with 1 Axes>"
      ]
     },
     "metadata": {
      "needs_background": "light"
     },
     "output_type": "display_data"
    }
   ],
   "source": [
    "data['total_area'].plot(kind='hist', bins=100, figsize=(12,5), grid=True)\n",
    "plt.title('Распределение общей площади')\n",
    "plt.xlabel('Общая площадь, м²')\n",
    "plt.ylabel('Частота')\n",
    "plt.show()"
   ]
  },
  {
   "cell_type": "markdown",
   "metadata": {},
   "source": [
    "На гистограмме видно, что объекты с общей площадью более 200 м² встречаются довольно редко - исключим их из датафрейма."
   ]
  },
  {
   "cell_type": "code",
   "execution_count": 23,
   "metadata": {},
   "outputs": [],
   "source": [
    "data = data.query('total_area <= 200')"
   ]
  },
  {
   "cell_type": "markdown",
   "metadata": {},
   "source": [
    "#### Жилая площадь"
   ]
  },
  {
   "cell_type": "code",
   "execution_count": 24,
   "metadata": {},
   "outputs": [
    {
     "data": {
      "image/png": "[encoded data removed]",
      "text/plain": [
       "<Figure size 864x360 with 1 Axes>"
      ]
     },
     "metadata": {
      "needs_background": "light"
     },
     "output_type": "display_data"
    }
   ],
   "source": [
    "data['living_area'].plot(kind='hist', bins=100, figsize=(12,5), grid=True)\n",
    "plt.title('Распределение жилой площади')\n",
    "plt.xlabel('Жилая площадь, м²')\n",
    "plt.ylabel('Частота')\n",
    "plt.show()"
   ]
  },
  {
   "cell_type": "markdown",
   "metadata": {},
   "source": [
    "Исходя из гистограммы можно сделать вывод о том, что объекты редко имеют жилую площадь более 130 м² - икслючим их из датафрейма."
   ]
  },
  {
   "cell_type": "code",
   "execution_count": 25,
   "metadata": {},
   "outputs": [],
   "source": [
    "data = data.query('living_area <= 130')"
   ]
  },
  {
   "cell_type": "markdown",
   "metadata": {},
   "source": [
    "#### Площадь кухни"
   ]
  },
  {
   "cell_type": "code",
   "execution_count": 26,
   "metadata": {},
   "outputs": [
    {
     "data": {
      "image/png": "[encoded data removed]",
      "text/plain": [
       "<Figure size 864x360 with 1 Axes>"
      ]
     },
     "metadata": {
      "needs_background": "light"
     },
     "output_type": "display_data"
    }
   ],
   "source": [
    "data['kitchen_area'].plot(kind='hist', bins=100, figsize=(12,5), grid=True)\n",
    "plt.title('Распределение площади кухни')\n",
    "plt.xlabel('Площадь кухни, м²')\n",
    "plt.ylabel('Частота')\n",
    "plt.show()"
   ]
  },
  {
   "cell_type": "markdown",
   "metadata": {},
   "source": [
    "Гистограмма указывает на то, что площадь кухни зачастую не превышает 40 м² - исключим аномалии из датафрейма."
   ]
  },
  {
   "cell_type": "code",
   "execution_count": 27,
   "metadata": {},
   "outputs": [],
   "source": [
    "data = data.query('kitchen_area <= 40')"
   ]
  },
  {
   "cell_type": "markdown",
   "metadata": {},
   "source": [
    "#### Цена"
   ]
  },
  {
   "cell_type": "code",
   "execution_count": 28,
   "metadata": {
    "tags": []
   },
   "outputs": [
    {
     "data": {
      "image/png": "[encoded data removed]",
      "text/plain": [
       "<Figure size 864x360 with 1 Axes>"
      ]
     },
     "metadata": {
      "needs_background": "light"
     },
     "output_type": "display_data"
    }
   ],
   "source": [
    "last_price_mln = data['last_price']/1000000 #переведем цену в млн, чтобы сделать гистограмму более наглядной\n",
    "\n",
    "last_price_mln.plot(kind='hist', bins=100, figsize=(12,5), grid=True)\n",
    "plt.title('Распределение цены квартиры')\n",
    "plt.xlabel('Цена, млн')\n",
    "plt.ylabel('Частота')\n",
    "plt.show()"
   ]
  },
  {
   "cell_type": "markdown",
   "metadata": {},
   "source": [
    "Из гистограммы видно, что цена объекта редко превышает 50 млн - исключим аномалии из датафрейма."
   ]
  },
  {
   "cell_type": "code",
   "execution_count": 29,
   "metadata": {},
   "outputs": [],
   "source": [
    "data = data.query('last_price <= 50000000')"
   ]
  },
  {
   "cell_type": "markdown",
   "metadata": {},
   "source": [
    "#### Количество комнат"
   ]
  },
  {
   "cell_type": "code",
   "execution_count": 30,
   "metadata": {},
   "outputs": [
    {
     "data": {
      "image/png": "[encoded data removed]",
      "text/plain": [
       "<Figure size 864x360 with 1 Axes>"
      ]
     },
     "metadata": {
      "needs_background": "light"
     },
     "output_type": "display_data"
    }
   ],
   "source": [
    "data['rooms'].plot(kind='hist', figsize=(12,5), grid=True)\n",
    "plt.title('Распределение количества комнат')\n",
    "plt.xlabel('Количество комнат')\n",
    "plt.ylabel('Частота')\n",
    "plt.show()"
   ]
  },
  {
   "cell_type": "markdown",
   "metadata": {},
   "source": [
    "На гистограмме видно, что объекты с более, чем 6-ю комнатами, встречаются довольно редко - исключим их из датафрейма."
   ]
  },
  {
   "cell_type": "code",
   "execution_count": 31,
   "metadata": {},
   "outputs": [],
   "source": [
    "data = data.query('rooms <= 6')"
   ]
  },
  {
   "cell_type": "markdown",
   "metadata": {},
   "source": [
    "#### Высота потолков"
   ]
  },
  {
   "cell_type": "code",
   "execution_count": 32,
   "metadata": {},
   "outputs": [
    {
     "data": {
      "image/png": "[encoded data removed]",
      "text/plain": [
       "<Figure size 864x360 with 1 Axes>"
      ]
     },
     "metadata": {
      "needs_background": "light"
     },
     "output_type": "display_data"
    }
   ],
   "source": [
    "data['ceiling_height'].plot(kind='hist', bins=100, figsize=(12,5), grid=True)\n",
    "plt.title('Распределение высоты потолков')\n",
    "plt.xlabel('Высота потолков, м')\n",
    "plt.ylabel('Частота')\n",
    "plt.show()"
   ]
  },
  {
   "cell_type": "markdown",
   "metadata": {},
   "source": [
    "Из гистограммы можно сделать вывод о том, что высота потолков зачастую не превышает 5 метров - исключим аномалии из датафрейма."
   ]
  },
  {
   "cell_type": "code",
   "execution_count": 33,
   "metadata": {},
   "outputs": [],
   "source": [
    "data = data.query('ceiling_height <= 5')"
   ]
  },
  {
   "cell_type": "markdown",
   "metadata": {},
   "source": [
    "#### Тип этажа"
   ]
  },
  {
   "cell_type": "code",
   "execution_count": 34,
   "metadata": {
    "tags": []
   },
   "outputs": [
    {
     "data": {
      "image/png": "[encoded data removed]",
      "text/plain": [
       "<Figure size 864x360 with 1 Axes>"
      ]
     },
     "metadata": {
      "needs_background": "light"
     },
     "output_type": "display_data"
    }
   ],
   "source": [
    "data['floor_type'].hist(figsize=(12,5))\n",
    "plt.title('Распределение  типов этажа')\n",
    "plt.xlabel('Тип этажа')\n",
    "plt.ylabel('Частота')\n",
    "plt.show()"
   ]
  },
  {
   "cell_type": "markdown",
   "metadata": {},
   "source": [
    "На данной гистограмме видно, что квартир на первом и последнем этажах меньше, чем на других этажах, что закономерно."
   ]
  },
  {
   "cell_type": "markdown",
   "metadata": {},
   "source": [
    "#### Общее количество этажей в доме"
   ]
  },
  {
   "cell_type": "code",
   "execution_count": 35,
   "metadata": {},
   "outputs": [
    {
     "data": {
      "image/png": "[encoded data removed]",
      "text/plain": [
       "<Figure size 864x360 with 1 Axes>"
      ]
     },
     "metadata": {
      "needs_background": "light"
     },
     "output_type": "display_data"
    }
   ],
   "source": [
    "data['floors_total'].plot(kind='hist', bins=100, figsize=(12,5), grid=True)\n",
    "plt.title('Распределение общего количества этажей в доме')\n",
    "plt.xlabel('Количество этажей')\n",
    "plt.ylabel('Частота')\n",
    "plt.show()"
   ]
  },
  {
   "cell_type": "markdown",
   "metadata": {},
   "source": [
    "Гистограмма указывает на то, что дома с количеством этажей более 30 встречаются досаточно редко - исключим их из датафрейма.\n",
    "\n",
    "Также можно заменить, что большая часть домов - это пятиэтажки и девятиэтажки."
   ]
  },
  {
   "cell_type": "code",
   "execution_count": 36,
   "metadata": {},
   "outputs": [],
   "source": [
    "data = data.query('floors_total <= 30')"
   ]
  },
  {
   "cell_type": "markdown",
   "metadata": {},
   "source": [
    "#### Расстояние до центра города"
   ]
  },
  {
   "cell_type": "code",
   "execution_count": 37,
   "metadata": {},
   "outputs": [
    {
     "data": {
      "image/png": "[encoded data removed]",
      "text/plain": [
       "<Figure size 864x360 with 1 Axes>"
      ]
     },
     "metadata": {
      "needs_background": "light"
     },
     "output_type": "display_data"
    }
   ],
   "source": [
    "data['cityCenters_nearest'].plot(kind='hist', bins=100, figsize=(12,5), grid=True)\n",
    "plt.title('Распределение расстояния до центра города')\n",
    "plt.xlabel('Расстояние до центра города, м')\n",
    "plt.ylabel('Частота')\n",
    "plt.show()"
   ]
  },
  {
   "cell_type": "markdown",
   "metadata": {},
   "source": [
    "На гистограмме видны довольно разрозненные значения расстояния до центра города, что логично, так как в датафрейме есть данные из разных населенных пунктов."
   ]
  },
  {
   "cell_type": "markdown",
   "metadata": {},
   "source": [
    "#### Расстояние до ближайшего парка"
   ]
  },
  {
   "cell_type": "code",
   "execution_count": 38,
   "metadata": {},
   "outputs": [
    {
     "data": {
      "image/png": "[encoded data removed]",
      "text/plain": [
       "<Figure size 864x360 with 1 Axes>"
      ]
     },
     "metadata": {
      "needs_background": "light"
     },
     "output_type": "display_data"
    }
   ],
   "source": [
    "data['parks_nearest'].plot(kind='hist', bins=100, figsize=(12,5), grid=True)\n",
    "plt.title('Распределение расстояния до ближайшего парка')\n",
    "plt.xlabel('Расстояние до ближайшего парка, м')\n",
    "plt.ylabel('Частота')\n",
    "plt.show()"
   ]
  },
  {
   "cell_type": "markdown",
   "metadata": {},
   "source": [
    "Аналогично с расстоянием до ближайшего парка, редкие значения расстояния до ближайшего парка являются закономерностью, а не аномалией, так как мы изучаем данные из разных населенных пунктов."
   ]
  },
  {
   "cell_type": "markdown",
   "metadata": {},
   "source": [
    "### Исследование количества дней для продажи квартиры"
   ]
  },
  {
   "cell_type": "markdown",
   "metadata": {},
   "source": [
    "Изучим, как быстро продавались квартиры.\n",
    "\n",
    "Начнем с визуализации данных с помощью гистограммы."
   ]
  },
  {
   "cell_type": "code",
   "execution_count": 39,
   "metadata": {
    "tags": []
   },
   "outputs": [
    {
     "data": {
      "image/png": "[encoded data removed]",
      "text/plain": [
       "<Figure size 864x360 with 1 Axes>"
      ]
     },
     "metadata": {
      "needs_background": "light"
     },
     "output_type": "display_data"
    }
   ],
   "source": [
    "data['days_exposition'].plot(kind='hist', bins=100, figsize=(12,5), grid=True)\n",
    "plt.title('Распределение количества дней для продажи квартиры')\n",
    "plt.xlabel('Количество дней')\n",
    "plt.ylabel('Частота')\n",
    "plt.show()"
   ]
  },
  {
   "cell_type": "markdown",
   "metadata": {},
   "source": [
    "Рассмотрим поближе наиболее часто встречающиеся данные."
   ]
  },
  {
   "cell_type": "code",
   "execution_count": 40,
   "metadata": {},
   "outputs": [
    {
     "data": {
      "image/png": "[encoded data removed]",
      "text/plain": [
       "<Figure size 864x360 with 1 Axes>"
      ]
     },
     "metadata": {
      "needs_background": "light"
     },
     "output_type": "display_data"
    }
   ],
   "source": [
    "data['days_exposition'].plot(kind='hist', range=(0,200), bins=100, figsize=(12,5), grid=True)\n",
    "plt.title('Распределение количества дней для продажи квартиры в пределах 200 дней')\n",
    "plt.xlabel('Количество дней')\n",
    "plt.ylabel('Частота')\n",
    "plt.show()"
   ]
  },
  {
   "cell_type": "markdown",
   "metadata": {},
   "source": [
    "Посчитаем среднее и медиану."
   ]
  },
  {
   "cell_type": "code",
   "execution_count": 41,
   "metadata": {},
   "outputs": [
    {
     "data": {
      "text/plain": [
       "count    20049.000000\n",
       "mean       178.947928\n",
       "std        217.660728\n",
       "min          1.000000\n",
       "25%         45.000000\n",
       "50%         94.000000\n",
       "75%        228.000000\n",
       "max       1580.000000\n",
       "Name: days_exposition, dtype: float64"
      ]
     },
     "execution_count": 41,
     "metadata": {},
     "output_type": "execute_result"
    }
   ],
   "source": [
    "data['days_exposition'].describe()"
   ]
  },
  {
   "cell_type": "markdown",
   "metadata": {},
   "source": [
    "В среднем продажа квартиры занимает от трех до шести месяцев. Чаще всего квартиры снимают с публикации через 45 и 60 дней - это может быть связано с тем, что продавцы опубликовывают обявления о квартирах заново через полтора-два месяца, чтобы привлечь внимание покупателей, или с тем, что объявления снимаются с публикации автоматически при отсутствии оплаты.\n",
    "\n",
    "Быстрыми можно считать продажи, совершенные менее, чем за полтора месяца. Их около 25% от общего количества продаж.\n",
    "\n",
    "Необычно долгими можно считать продажи, на которые ушло более года."
   ]
  },
  {
   "cell_type": "markdown",
   "metadata": {
    "toc-hr-collapsed": true
   },
   "source": [
    "### Исследование факторов, влияющих на общую стоимость квартиры"
   ]
  },
  {
   "cell_type": "markdown",
   "metadata": {},
   "source": [
    "#### Общая площадь"
   ]
  },
  {
   "cell_type": "code",
   "execution_count": 42,
   "metadata": {},
   "outputs": [
    {
     "data": {
      "text/plain": [
       "0.7593169161916318"
      ]
     },
     "execution_count": 42,
     "metadata": {},
     "output_type": "execute_result"
    }
   ],
   "source": [
    "data['last_price'].corr(data['total_area'])"
   ]
  },
  {
   "cell_type": "code",
   "execution_count": 43,
   "metadata": {},
   "outputs": [
    {
     "data": {
      "image/png": "[encoded data removed]",
      "text/plain": [
       "<Figure size 864x360 with 1 Axes>"
      ]
     },
     "metadata": {
      "needs_background": "light"
     },
     "output_type": "display_data"
    }
   ],
   "source": [
    "data.plot(x='total_area', y='last_price', kind='scatter', figsize=(12,5))\n",
    "plt.title('Зависимость цены квартиры от ее общей площади')\n",
    "plt.xlabel('Общая площадь, м²')\n",
    "plt.ylabel('Цена')\n",
    "plt.show()"
   ]
  },
  {
   "cell_type": "markdown",
   "metadata": {},
   "source": [
    "Коэффициент корреляции между ценой и общей площадью квартиры высокий - 0.76.\n",
    "\n",
    "График также указывает на прямую взаимосвязь между этими параметрами."
   ]
  },
  {
   "cell_type": "markdown",
   "metadata": {},
   "source": [
    "#### Жилая площадь"
   ]
  },
  {
   "cell_type": "code",
   "execution_count": 44,
   "metadata": {},
   "outputs": [
    {
     "data": {
      "text/plain": [
       "0.661587376310914"
      ]
     },
     "execution_count": 44,
     "metadata": {},
     "output_type": "execute_result"
    }
   ],
   "source": [
    "data['last_price'].corr(data['living_area'])"
   ]
  },
  {
   "cell_type": "code",
   "execution_count": 45,
   "metadata": {},
   "outputs": [
    {
     "data": {
      "image/png": "[encoded data removed]",
      "text/plain": [
       "<Figure size 864x360 with 1 Axes>"
      ]
     },
     "metadata": {
      "needs_background": "light"
     },
     "output_type": "display_data"
    }
   ],
   "source": [
    "data.plot(x='living_area', y='last_price', kind='scatter', figsize=(12,5))\n",
    "plt.title('Зависимость цены квартиры от ее жилой площади')\n",
    "plt.xlabel('Жилая площадь, м²')\n",
    "plt.ylabel('Цена')\n",
    "plt.show()"
   ]
  },
  {
   "cell_type": "markdown",
   "metadata": {},
   "source": [
    "Между ценой и жилой площадью коэффициент также высокий - 0.66.\n",
    "\n",
    "На графике прослеживается взаимосвязь между этими параметрами, хотя и менее очевидно."
   ]
  },
  {
   "cell_type": "markdown",
   "metadata": {},
   "source": [
    "#### Площадь кухни"
   ]
  },
  {
   "cell_type": "code",
   "execution_count": 46,
   "metadata": {},
   "outputs": [
    {
     "data": {
      "text/plain": [
       "0.5887367888036021"
      ]
     },
     "execution_count": 46,
     "metadata": {},
     "output_type": "execute_result"
    }
   ],
   "source": [
    "data['last_price'].corr(data['kitchen_area'])"
   ]
  },
  {
   "cell_type": "code",
   "execution_count": 47,
   "metadata": {},
   "outputs": [
    {
     "data": {
      "image/png": "[encoded data removed]",
      "text/plain": [
       "<Figure size 864x360 with 1 Axes>"
      ]
     },
     "metadata": {
      "needs_background": "light"
     },
     "output_type": "display_data"
    }
   ],
   "source": [
    "data.plot(x='kitchen_area', y='last_price', kind='scatter', figsize=(12,5))\n",
    "plt.title('Зависимость цены квартиры от площади кухни')\n",
    "plt.xlabel('Площадь кухни, м²')\n",
    "plt.ylabel('Цена')\n",
    "plt.show()"
   ]
  },
  {
   "cell_type": "markdown",
   "metadata": {},
   "source": [
    "Коэффициент корреляции между ценой и площадью кухни тоже высокий - 0.59.\n",
    "\n",
    "На графике хоть связь и прослеживается связь между этими параметрами, но чем больше площадь кухни, тем связь становится более слабой. "
   ]
  },
  {
   "cell_type": "markdown",
   "metadata": {},
   "source": [
    "#### Количество комнат"
   ]
  },
  {
   "cell_type": "code",
   "execution_count": 48,
   "metadata": {},
   "outputs": [
    {
     "data": {
      "text/plain": [
       "0.46401655151586263"
      ]
     },
     "execution_count": 48,
     "metadata": {},
     "output_type": "execute_result"
    }
   ],
   "source": [
    "data['last_price'].corr(data['rooms'])"
   ]
  },
  {
   "cell_type": "code",
   "execution_count": 49,
   "metadata": {},
   "outputs": [
    {
     "data": {
      "image/png": "[encoded data removed]",
      "text/plain": [
       "<Figure size 864x360 with 1 Axes>"
      ]
     },
     "metadata": {
      "needs_background": "light"
     },
     "output_type": "display_data"
    }
   ],
   "source": [
    "data.pivot_table(index='rooms', values='last_price', aggfunc='median').plot(figsize = (12, 5))\n",
    "plt.title('Зависимость цены квартиры от количества комнат')\n",
    "plt.xlabel('Количество комнат')\n",
    "plt.ylabel('Цена')\n",
    "plt.show()"
   ]
  },
  {
   "cell_type": "markdown",
   "metadata": {},
   "source": [
    "Между ценой и количеством комнат коэффициент корреляции ниже, но все еще указывает на связь, - 0.47.\n",
    "\n",
    "График также указывает на прямую связь между этими параметрами."
   ]
  },
  {
   "cell_type": "markdown",
   "metadata": {},
   "source": [
    "#### Тип этажа"
   ]
  },
  {
   "cell_type": "code",
   "execution_count": 50,
   "metadata": {},
   "outputs": [
    {
     "data": {
      "image/png": "[encoded data removed]",
      "text/plain": [
       "<Figure size 864x360 with 1 Axes>"
      ]
     },
     "metadata": {
      "needs_background": "light"
     },
     "output_type": "display_data"
    }
   ],
   "source": [
    "data.pivot_table(index='floor_type', values='last_price', aggfunc='median').plot(kind='bar', figsize = (12, 5))\n",
    "plt.title('Зависимость цены квартиры от типа этажа')\n",
    "plt.xlabel('Тип этажа')\n",
    "plt.ylabel('Цена')\n",
    "plt.show()"
   ]
  },
  {
   "cell_type": "markdown",
   "metadata": {},
   "source": [
    "На графике видно, что квартиры на первом и последних этажех в среднем стоят немного меньше, чем на прочих этажах."
   ]
  },
  {
   "cell_type": "markdown",
   "metadata": {},
   "source": [
    "#### Дата размещения"
   ]
  },
  {
   "cell_type": "code",
   "execution_count": 51,
   "metadata": {},
   "outputs": [
    {
     "data": {
      "image/png": "[encoded data removed]",
      "text/plain": [
       "<Figure size 864x360 with 1 Axes>"
      ]
     },
     "metadata": {
      "needs_background": "light"
     },
     "output_type": "display_data"
    }
   ],
   "source": [
    "data.pivot_table(index='day_of_week_of_exposition', values='last_price', aggfunc='median').plot(kind='bar', figsize = (12, 5))\n",
    "plt.title('Зависимость цены квартиры от дня недели размещения объявления')\n",
    "plt.xlabel('День недели')\n",
    "plt.ylabel('Цена')\n",
    "plt.show()"
   ]
  },
  {
   "cell_type": "markdown",
   "metadata": {},
   "source": [
    "На графике видно, что день недели размещения практически не влияет на цену квартиры."
   ]
  },
  {
   "cell_type": "code",
   "execution_count": 52,
   "metadata": {},
   "outputs": [
    {
     "data": {
      "image/png": "[encoded data removed]",
      "text/plain": [
       "<Figure size 864x360 with 1 Axes>"
      ]
     },
     "metadata": {
      "needs_background": "light"
     },
     "output_type": "display_data"
    }
   ],
   "source": [
    "data.pivot_table(index='month_of_exposition', values='last_price', aggfunc='median').plot(kind='bar', figsize = (12, 5))\n",
    "plt.title('Зависимость цены квартиры от месяца размещения объявления')\n",
    "plt.xlabel('Месяц')\n",
    "plt.ylabel('Цена')\n",
    "plt.show()"
   ]
  },
  {
   "cell_type": "markdown",
   "metadata": {},
   "source": [
    "Из графика можно сделать вывод о том, что месяц размещения несильно влияет на цену квартиры."
   ]
  },
  {
   "cell_type": "code",
   "execution_count": 53,
   "metadata": {},
   "outputs": [
    {
     "data": {
      "image/png": "[encoded data removed]",
      "text/plain": [
       "<Figure size 864x360 with 1 Axes>"
      ]
     },
     "metadata": {
      "needs_background": "light"
     },
     "output_type": "display_data"
    }
   ],
   "source": [
    "data.pivot_table(index='year_of_exposition', values='last_price', aggfunc='median').plot(kind='bar', figsize = (12, 5))\n",
    "plt.title('Зависимость цены квартиры от года размещения объявления')\n",
    "plt.xlabel('Года')\n",
    "plt.ylabel('Цена')\n",
    "plt.show()"
   ]
  },
  {
   "cell_type": "markdown",
   "metadata": {},
   "source": [
    "График указывает на то, что в 2014 году квартиры стояли почти в два раза больше, чем в последующих годах, но тенденции к снижению цен на квартиры со временем нет."
   ]
  },
  {
   "cell_type": "markdown",
   "metadata": {},
   "source": [
    "### Исследование стоимости квадратного метра"
   ]
  },
  {
   "cell_type": "markdown",
   "metadata": {},
   "source": [
    "Изучим среднюю цену одного квадратного метра в 10 населённых пунктах с наибольшим числом объявлений."
   ]
  },
  {
   "cell_type": "code",
   "execution_count": 54,
   "metadata": {},
   "outputs": [],
   "source": [
    "locality_name_top_10 = data['locality_name'].value_counts().head(10)"
   ]
  },
  {
   "cell_type": "code",
   "execution_count": 55,
   "metadata": {},
   "outputs": [
    {
     "data": {
      "text/html": [
       "<div>\n",
       "<style scoped>\n",
       "    .dataframe tbody tr th:only-of-type {\n",
       "        vertical-align: middle;\n",
       "    }\n",
       "\n",
       "    .dataframe tbody tr th {\n",
       "        vertical-align: top;\n",
       "    }\n",
       "\n",
       "    .dataframe thead th {\n",
       "        text-align: right;\n",
       "    }\n",
       "</style>\n",
       "<table border=\"1\" class=\"dataframe\">\n",
       "  <thead>\n",
       "    <tr style=\"text-align: right;\">\n",
       "      <th></th>\n",
       "      <th>Количество объявлений</th>\n",
       "      <th>Средняя цена за м²</th>\n",
       "    </tr>\n",
       "    <tr>\n",
       "      <th>locality_name</th>\n",
       "      <th></th>\n",
       "      <th></th>\n",
       "    </tr>\n",
       "  </thead>\n",
       "  <tbody>\n",
       "    <tr>\n",
       "      <th>Санкт-Петербург</th>\n",
       "      <td>15224</td>\n",
       "      <td>111904.325042</td>\n",
       "    </tr>\n",
       "    <tr>\n",
       "      <th>поселок Мурино</th>\n",
       "      <td>549</td>\n",
       "      <td>85602.500492</td>\n",
       "    </tr>\n",
       "    <tr>\n",
       "      <th>поселок Шушары</th>\n",
       "      <td>438</td>\n",
       "      <td>78577.015091</td>\n",
       "    </tr>\n",
       "    <tr>\n",
       "      <th>Всеволожск</th>\n",
       "      <td>398</td>\n",
       "      <td>68654.473970</td>\n",
       "    </tr>\n",
       "    <tr>\n",
       "      <th>Пушкин</th>\n",
       "      <td>360</td>\n",
       "      <td>102901.982806</td>\n",
       "    </tr>\n",
       "    <tr>\n",
       "      <th>Колпино</th>\n",
       "      <td>337</td>\n",
       "      <td>75333.295816</td>\n",
       "    </tr>\n",
       "    <tr>\n",
       "      <th>поселок Парголово</th>\n",
       "      <td>326</td>\n",
       "      <td>90332.262638</td>\n",
       "    </tr>\n",
       "    <tr>\n",
       "      <th>Гатчина</th>\n",
       "      <td>306</td>\n",
       "      <td>68757.678399</td>\n",
       "    </tr>\n",
       "    <tr>\n",
       "      <th>деревня Кудрово</th>\n",
       "      <td>299</td>\n",
       "      <td>92473.547559</td>\n",
       "    </tr>\n",
       "    <tr>\n",
       "      <th>Выборг</th>\n",
       "      <td>237</td>\n",
       "      <td>58141.909325</td>\n",
       "    </tr>\n",
       "  </tbody>\n",
       "</table>\n",
       "</div>"
      ],
      "text/plain": [
       "                   Количество объявлений  Средняя цена за м²\n",
       "locality_name                                               \n",
       "Санкт-Петербург                    15224       111904.325042\n",
       "поселок Мурино                       549        85602.500492\n",
       "поселок Шушары                       438        78577.015091\n",
       "Всеволожск                           398        68654.473970\n",
       "Пушкин                               360       102901.982806\n",
       "Колпино                              337        75333.295816\n",
       "поселок Парголово                    326        90332.262638\n",
       "Гатчина                              306        68757.678399\n",
       "деревня Кудрово                      299        92473.547559\n",
       "Выборг                               237        58141.909325"
      ]
     },
     "execution_count": 55,
     "metadata": {},
     "output_type": "execute_result"
    }
   ],
   "source": [
    "locality_top_10_pivot = data.query('locality_name in @locality_name_top_10.index')\\\n",
    ".pivot_table(index='locality_name', values='price_per_m2', aggfunc=['count', 'mean'])\n",
    "locality_top_10_pivot.columns = ['Количество объявлений', 'Средняя цена за м²']\n",
    "locality_top_10_pivot.sort_values(by='Количество объявлений', ascending=False)"
   ]
  },
  {
   "cell_type": "markdown",
   "metadata": {},
   "source": [
    "Из 10 населенных пунктов с самым большим количеством объявлений самая высокая стоимость квадратного метра в Санкт-Петербурге (более 111 тысяч), а самая низкая - в Выборге (около 58 тысяч)."
   ]
  },
  {
   "cell_type": "markdown",
   "metadata": {},
   "source": [
    "### Исследование изменения стоимости квадратного метра по степени удалённости от центра"
   ]
  },
  {
   "cell_type": "markdown",
   "metadata": {},
   "source": [
    "Изучим соимость квадратного километра в Санкт-Петербурге для каждого километра по степени удаленности от центра."
   ]
  },
  {
   "cell_type": "code",
   "execution_count": 56,
   "metadata": {},
   "outputs": [
    {
     "data": {
      "text/html": [
       "<div>\n",
       "<style scoped>\n",
       "    .dataframe tbody tr th:only-of-type {\n",
       "        vertical-align: middle;\n",
       "    }\n",
       "\n",
       "    .dataframe tbody tr th {\n",
       "        vertical-align: top;\n",
       "    }\n",
       "\n",
       "    .dataframe thead th {\n",
       "        text-align: right;\n",
       "    }\n",
       "</style>\n",
       "<table border=\"1\" class=\"dataframe\">\n",
       "  <thead>\n",
       "    <tr style=\"text-align: right;\">\n",
       "      <th></th>\n",
       "      <th>price_per_m2</th>\n",
       "    </tr>\n",
       "    <tr>\n",
       "      <th>cityCenters_nearest_km</th>\n",
       "      <th></th>\n",
       "    </tr>\n",
       "  </thead>\n",
       "  <tbody>\n",
       "    <tr>\n",
       "      <th>0.0</th>\n",
       "      <td>192470.119000</td>\n",
       "    </tr>\n",
       "    <tr>\n",
       "      <th>1.0</th>\n",
       "      <td>146709.316951</td>\n",
       "    </tr>\n",
       "    <tr>\n",
       "      <th>2.0</th>\n",
       "      <td>138290.269412</td>\n",
       "    </tr>\n",
       "    <tr>\n",
       "      <th>3.0</th>\n",
       "      <td>118867.401550</td>\n",
       "    </tr>\n",
       "    <tr>\n",
       "      <th>4.0</th>\n",
       "      <td>127662.808767</td>\n",
       "    </tr>\n",
       "    <tr>\n",
       "      <th>5.0</th>\n",
       "      <td>135047.150428</td>\n",
       "    </tr>\n",
       "    <tr>\n",
       "      <th>6.0</th>\n",
       "      <td>140585.668674</td>\n",
       "    </tr>\n",
       "    <tr>\n",
       "      <th>7.0</th>\n",
       "      <td>140943.624016</td>\n",
       "    </tr>\n",
       "    <tr>\n",
       "      <th>8.0</th>\n",
       "      <td>123484.865955</td>\n",
       "    </tr>\n",
       "    <tr>\n",
       "      <th>9.0</th>\n",
       "      <td>113246.672867</td>\n",
       "    </tr>\n",
       "    <tr>\n",
       "      <th>10.0</th>\n",
       "      <td>112677.834740</td>\n",
       "    </tr>\n",
       "    <tr>\n",
       "      <th>11.0</th>\n",
       "      <td>108022.587569</td>\n",
       "    </tr>\n",
       "    <tr>\n",
       "      <th>12.0</th>\n",
       "      <td>107493.933729</td>\n",
       "    </tr>\n",
       "    <tr>\n",
       "      <th>13.0</th>\n",
       "      <td>108069.019854</td>\n",
       "    </tr>\n",
       "    <tr>\n",
       "      <th>14.0</th>\n",
       "      <td>104039.483670</td>\n",
       "    </tr>\n",
       "    <tr>\n",
       "      <th>15.0</th>\n",
       "      <td>103915.754997</td>\n",
       "    </tr>\n",
       "    <tr>\n",
       "      <th>16.0</th>\n",
       "      <td>100448.231724</td>\n",
       "    </tr>\n",
       "    <tr>\n",
       "      <th>17.0</th>\n",
       "      <td>96980.748844</td>\n",
       "    </tr>\n",
       "    <tr>\n",
       "      <th>18.0</th>\n",
       "      <td>96409.578450</td>\n",
       "    </tr>\n",
       "    <tr>\n",
       "      <th>19.0</th>\n",
       "      <td>98658.387756</td>\n",
       "    </tr>\n",
       "    <tr>\n",
       "      <th>20.0</th>\n",
       "      <td>87214.901053</td>\n",
       "    </tr>\n",
       "    <tr>\n",
       "      <th>21.0</th>\n",
       "      <td>94469.584444</td>\n",
       "    </tr>\n",
       "    <tr>\n",
       "      <th>22.0</th>\n",
       "      <td>91330.425099</td>\n",
       "    </tr>\n",
       "    <tr>\n",
       "      <th>23.0</th>\n",
       "      <td>92063.679639</td>\n",
       "    </tr>\n",
       "    <tr>\n",
       "      <th>24.0</th>\n",
       "      <td>85736.904615</td>\n",
       "    </tr>\n",
       "    <tr>\n",
       "      <th>25.0</th>\n",
       "      <td>91531.371154</td>\n",
       "    </tr>\n",
       "    <tr>\n",
       "      <th>26.0</th>\n",
       "      <td>87798.873256</td>\n",
       "    </tr>\n",
       "    <tr>\n",
       "      <th>27.0</th>\n",
       "      <td>132115.710000</td>\n",
       "    </tr>\n",
       "    <tr>\n",
       "      <th>28.0</th>\n",
       "      <td>81161.914286</td>\n",
       "    </tr>\n",
       "    <tr>\n",
       "      <th>29.0</th>\n",
       "      <td>72953.365000</td>\n",
       "    </tr>\n",
       "  </tbody>\n",
       "</table>\n",
       "</div>"
      ],
      "text/plain": [
       "                         price_per_m2\n",
       "cityCenters_nearest_km               \n",
       "0.0                     192470.119000\n",
       "1.0                     146709.316951\n",
       "2.0                     138290.269412\n",
       "3.0                     118867.401550\n",
       "4.0                     127662.808767\n",
       "5.0                     135047.150428\n",
       "6.0                     140585.668674\n",
       "7.0                     140943.624016\n",
       "8.0                     123484.865955\n",
       "9.0                     113246.672867\n",
       "10.0                    112677.834740\n",
       "11.0                    108022.587569\n",
       "12.0                    107493.933729\n",
       "13.0                    108069.019854\n",
       "14.0                    104039.483670\n",
       "15.0                    103915.754997\n",
       "16.0                    100448.231724\n",
       "17.0                     96980.748844\n",
       "18.0                     96409.578450\n",
       "19.0                     98658.387756\n",
       "20.0                     87214.901053\n",
       "21.0                     94469.584444\n",
       "22.0                     91330.425099\n",
       "23.0                     92063.679639\n",
       "24.0                     85736.904615\n",
       "25.0                     91531.371154\n",
       "26.0                     87798.873256\n",
       "27.0                    132115.710000\n",
       "28.0                     81161.914286\n",
       "29.0                     72953.365000"
      ]
     },
     "execution_count": 56,
     "metadata": {},
     "output_type": "execute_result"
    }
   ],
   "source": [
    "spb_cityCenter_price = data.query('locality_name == \"Санкт-Петербург\"')\\\n",
    ".pivot_table(index='cityCenters_nearest_km', values='price_per_m2', aggfunc='mean')\n",
    "spb_cityCenter_price"
   ]
  },
  {
   "cell_type": "code",
   "execution_count": 57,
   "metadata": {},
   "outputs": [
    {
     "data": {
      "image/png": "[encoded data removed]",
      "text/plain": [
       "<Figure size 864x360 with 1 Axes>"
      ]
     },
     "metadata": {
      "needs_background": "light"
     },
     "output_type": "display_data"
    }
   ],
   "source": [
    "spb_cityCenter_price.plot(figsize = (12, 5))\n",
    "plt.title('Изменение стоимости квадратного метра по степени удалённости от центра')\n",
    "plt.xlabel('Стоимость м²')\n",
    "plt.ylabel('Цена')\n",
    "plt.show()"
   ]
  },
  {
   "cell_type": "markdown",
   "metadata": {},
   "source": [
    "На графике видно, что по мере удаления объекта недвижимости от центра, цена за квадратный метр как правило уменьшается.\n",
    "\n",
    "Однако, есть выброс - неожиданно высокая средняя цена для объектов на расстоянии в 27 км. Изучим эти объекты подробнее."
   ]
  },
  {
   "cell_type": "code",
   "execution_count": 58,
   "metadata": {},
   "outputs": [
    {
     "data": {
      "text/html": [
       "<div>\n",
       "<style scoped>\n",
       "    .dataframe tbody tr th:only-of-type {\n",
       "        vertical-align: middle;\n",
       "    }\n",
       "\n",
       "    .dataframe tbody tr th {\n",
       "        vertical-align: top;\n",
       "    }\n",
       "\n",
       "    .dataframe thead th {\n",
       "        text-align: right;\n",
       "    }\n",
       "</style>\n",
       "<table border=\"1\" class=\"dataframe\">\n",
       "  <thead>\n",
       "    <tr style=\"text-align: right;\">\n",
       "      <th></th>\n",
       "      <th>total_images</th>\n",
       "      <th>last_price</th>\n",
       "      <th>total_area</th>\n",
       "      <th>first_day_exposition</th>\n",
       "      <th>rooms</th>\n",
       "      <th>ceiling_height</th>\n",
       "      <th>floors_total</th>\n",
       "      <th>living_area</th>\n",
       "      <th>floor</th>\n",
       "      <th>is_apartment</th>\n",
       "      <th>...</th>\n",
       "      <th>parks_nearest</th>\n",
       "      <th>ponds_around3000</th>\n",
       "      <th>ponds_nearest</th>\n",
       "      <th>days_exposition</th>\n",
       "      <th>price_per_m2</th>\n",
       "      <th>day_of_week_of_exposition</th>\n",
       "      <th>month_of_exposition</th>\n",
       "      <th>year_of_exposition</th>\n",
       "      <th>floor_type</th>\n",
       "      <th>cityCenters_nearest_km</th>\n",
       "    </tr>\n",
       "  </thead>\n",
       "  <tbody>\n",
       "    <tr>\n",
       "      <th>748</th>\n",
       "      <td>13</td>\n",
       "      <td>14350000.0</td>\n",
       "      <td>74.0</td>\n",
       "      <td>2017-11-28</td>\n",
       "      <td>2</td>\n",
       "      <td>3.13</td>\n",
       "      <td>5.0</td>\n",
       "      <td>30.0</td>\n",
       "      <td>3</td>\n",
       "      <td>False</td>\n",
       "      <td>...</td>\n",
       "      <td>1496.0</td>\n",
       "      <td>0</td>\n",
       "      <td>NaN</td>\n",
       "      <td>128.0</td>\n",
       "      <td>193918.92</td>\n",
       "      <td>1</td>\n",
       "      <td>11</td>\n",
       "      <td>2017</td>\n",
       "      <td>другой</td>\n",
       "      <td>27.0</td>\n",
       "    </tr>\n",
       "    <tr>\n",
       "      <th>5961</th>\n",
       "      <td>6</td>\n",
       "      <td>2250000.0</td>\n",
       "      <td>32.0</td>\n",
       "      <td>2018-02-27</td>\n",
       "      <td>1</td>\n",
       "      <td>2.65</td>\n",
       "      <td>2.0</td>\n",
       "      <td>16.5</td>\n",
       "      <td>2</td>\n",
       "      <td>False</td>\n",
       "      <td>...</td>\n",
       "      <td>NaN</td>\n",
       "      <td>0</td>\n",
       "      <td>NaN</td>\n",
       "      <td>178.0</td>\n",
       "      <td>70312.50</td>\n",
       "      <td>1</td>\n",
       "      <td>2</td>\n",
       "      <td>2018</td>\n",
       "      <td>последний</td>\n",
       "      <td>27.0</td>\n",
       "    </tr>\n",
       "  </tbody>\n",
       "</table>\n",
       "<p>2 rows × 28 columns</p>\n",
       "</div>"
      ],
      "text/plain": [
       "      total_images  last_price  total_area first_day_exposition  rooms  \\\n",
       "748             13  14350000.0        74.0           2017-11-28      2   \n",
       "5961             6   2250000.0        32.0           2018-02-27      1   \n",
       "\n",
       "      ceiling_height  floors_total  living_area  floor  is_apartment  ...  \\\n",
       "748             3.13           5.0         30.0      3         False  ...   \n",
       "5961            2.65           2.0         16.5      2         False  ...   \n",
       "\n",
       "      parks_nearest  ponds_around3000  ponds_nearest  days_exposition  \\\n",
       "748          1496.0                 0            NaN            128.0   \n",
       "5961            NaN                 0            NaN            178.0   \n",
       "\n",
       "     price_per_m2  day_of_week_of_exposition  month_of_exposition  \\\n",
       "748     193918.92                          1                   11   \n",
       "5961     70312.50                          1                    2   \n",
       "\n",
       "      year_of_exposition  floor_type  cityCenters_nearest_km  \n",
       "748                 2017      другой                    27.0  \n",
       "5961                2018   последний                    27.0  \n",
       "\n",
       "[2 rows x 28 columns]"
      ]
     },
     "execution_count": 58,
     "metadata": {},
     "output_type": "execute_result"
    }
   ],
   "source": [
    "data.query('cityCenters_nearest_km == 27.0 and locality_name == \"Санкт-Петербург\"')"
   ]
  },
  {
   "cell_type": "markdown",
   "metadata": {},
   "source": [
    "Данным критериям соответвует только два объекта недвижимости, поэтому мы можем сделать вывод о том, что этот случай представляет собой выброс и не должен влиять на общую статистику."
   ]
  },
  {
   "cell_type": "markdown",
   "metadata": {},
   "source": [
    "## Общий вывод"
   ]
  },
  {
   "cell_type": "markdown",
   "metadata": {},
   "source": [
    "Для проведения исследования был использован датасет из более чем 23 тысяч строк, что является достаточно большой базой для формирования выводов об объявлениях о продаже квартир.\n",
    "\n",
    "В ходе предобработки данных пропуски были заменены на средние или более подходящие по смыслу значения. Также были изменены типы данных, где они не соответствовали содержимому, исправлены дубликаты в названиях населенных пунктов и были добавлены столбцы с дополнительной информацией.\n",
    "\n",
    "В процессе исследовательского анализа данных были удалены строки с аномальными значениями. Также было вывлено, что в среднем на продажу квартиры уходит от трех до шести месяцев.\n",
    "\n",
    "Среди факторов, наиболее влияющих на цену квартиру были выделены:\n",
    "* общая площадь - чем больше площадь, тем дороже квартира\n",
    "* жилая площадь - чем больше площадь, тем дороже квартира\n",
    "* площадь кухни - чем больше площадь, тем дороже квартира\n",
    "* количество комнат - чем больше комнат, тем дороже квартира\n",
    "* этаж, на котором расположена квартира - квартиры на первом этаже стоят дешевле\n",
    "* год размещения - в 2017 году квартиры в среднем были дороже, чем в последующих годах\n",
    "\n",
    "Цена также различается в зависимости от населенного пункта, например в Санкт-Петербурге находятся самые дорогие квартиры - в среднем, 111 тысяч за квадратный метр.\n",
    "\n",
    "Также на цену влияет удаленность от центра города - чем ближе квартира к центру, тем она дороже."
   ]
  }
 ],
 "metadata": {
  "ExecuteTimeLog": [
   {
    "duration": 605,
    "start_time": "2023-11-25T13:43:09.269Z"
   },
   {
    "duration": 35,
    "start_time": "2023-11-25T13:43:09.876Z"
   },
   {
    "duration": 43,
    "start_time": "2023-11-25T13:43:09.913Z"
   },
   {
    "duration": 2612,
    "start_time": "2023-11-25T13:43:09.958Z"
   },
   {
    "duration": 10,
    "start_time": "2023-11-25T13:43:12.572Z"
   },
   {
    "duration": 9,
    "start_time": "2023-11-25T13:43:12.584Z"
   },
   {
    "duration": 7,
    "start_time": "2023-11-25T13:43:12.595Z"
   },
   {
    "duration": 32,
    "start_time": "2023-11-25T13:43:12.603Z"
   },
   {
    "duration": 16,
    "start_time": "2023-11-25T13:43:12.643Z"
   },
   {
    "duration": 14,
    "start_time": "2023-11-25T13:43:12.662Z"
   },
   {
    "duration": 13,
    "start_time": "2023-11-25T13:43:12.677Z"
   },
   {
    "duration": 19,
    "start_time": "2023-11-25T13:43:12.692Z"
   },
   {
    "duration": 29,
    "start_time": "2023-11-25T13:43:12.713Z"
   },
   {
    "duration": 126,
    "start_time": "2023-11-25T13:43:12.744Z"
   },
   {
    "duration": 2100,
    "start_time": "2023-11-25T13:43:12.872Z"
   },
   {
    "duration": 257,
    "start_time": "2023-11-25T13:43:14.974Z"
   },
   {
    "duration": 359,
    "start_time": "2023-11-25T13:43:15.232Z"
   },
   {
    "duration": 292,
    "start_time": "2023-11-25T13:43:15.592Z"
   },
   {
    "duration": 282,
    "start_time": "2023-11-25T13:43:15.885Z"
   },
   {
    "duration": 243,
    "start_time": "2023-11-25T13:43:16.169Z"
   },
   {
    "duration": 279,
    "start_time": "2023-11-25T13:43:16.413Z"
   },
   {
    "duration": 387,
    "start_time": "2023-11-25T13:43:16.693Z"
   },
   {
    "duration": 299,
    "start_time": "2023-11-25T13:43:17.082Z"
   },
   {
    "duration": 163,
    "start_time": "2023-11-25T13:43:17.383Z"
   },
   {
    "duration": 280,
    "start_time": "2023-11-25T13:43:17.548Z"
   },
   {
    "duration": 272,
    "start_time": "2023-11-25T13:43:17.834Z"
   },
   {
    "duration": 289,
    "start_time": "2023-11-25T13:43:18.107Z"
   },
   {
    "duration": 11,
    "start_time": "2023-11-25T13:43:18.399Z"
   },
   {
    "duration": 405,
    "start_time": "2023-11-25T13:43:18.412Z"
   },
   {
    "duration": 16,
    "start_time": "2023-11-25T13:43:18.818Z"
   },
   {
    "duration": 10,
    "start_time": "2023-11-25T13:43:18.835Z"
   },
   {
    "duration": 202,
    "start_time": "2023-11-25T13:43:18.847Z"
   },
   {
    "duration": 5,
    "start_time": "2023-11-25T13:43:19.051Z"
   },
   {
    "duration": 186,
    "start_time": "2023-11-25T13:43:19.057Z"
   },
   {
    "duration": 7,
    "start_time": "2023-11-25T13:43:19.246Z"
   },
   {
    "duration": 187,
    "start_time": "2023-11-25T13:43:19.255Z"
   },
   {
    "duration": 6,
    "start_time": "2023-11-25T13:43:19.446Z"
   },
   {
    "duration": 195,
    "start_time": "2023-11-25T13:43:19.454Z"
   },
   {
    "duration": 130,
    "start_time": "2023-11-25T13:43:19.651Z"
   },
   {
    "duration": 176,
    "start_time": "2023-11-25T13:43:19.783Z"
   },
   {
    "duration": 202,
    "start_time": "2023-11-25T13:43:19.961Z"
   },
   {
    "duration": 150,
    "start_time": "2023-11-25T13:43:20.164Z"
   },
   {
    "duration": 24,
    "start_time": "2023-11-25T13:43:20.316Z"
   },
   {
    "duration": 22,
    "start_time": "2023-11-25T13:43:20.345Z"
   },
   {
    "duration": 17,
    "start_time": "2023-11-25T13:43:20.369Z"
   },
   {
    "duration": 161,
    "start_time": "2023-11-25T13:43:20.388Z"
   },
   {
    "duration": 26,
    "start_time": "2023-11-25T13:43:20.551Z"
   },
   {
    "duration": 105,
    "start_time": "2023-11-25T13:56:41.739Z"
   },
   {
    "duration": 8,
    "start_time": "2023-11-25T13:56:47.956Z"
   },
   {
    "duration": 88,
    "start_time": "2023-11-25T13:57:01.689Z"
   },
   {
    "duration": 17,
    "start_time": "2023-11-25T13:58:37.421Z"
   },
   {
    "duration": 20,
    "start_time": "2023-11-25T13:58:45.551Z"
   },
   {
    "duration": 563,
    "start_time": "2023-11-25T13:58:57.391Z"
   },
   {
    "duration": 43,
    "start_time": "2023-11-25T13:58:57.957Z"
   },
   {
    "duration": 16,
    "start_time": "2023-11-25T13:58:58.002Z"
   },
   {
    "duration": 2463,
    "start_time": "2023-11-25T13:58:58.028Z"
   },
   {
    "duration": 11,
    "start_time": "2023-11-25T13:59:00.493Z"
   },
   {
    "duration": 54,
    "start_time": "2023-11-25T13:59:00.505Z"
   },
   {
    "duration": 43,
    "start_time": "2023-11-25T13:59:00.562Z"
   },
   {
    "duration": 52,
    "start_time": "2023-11-25T13:59:00.607Z"
   },
   {
    "duration": 56,
    "start_time": "2023-11-25T13:59:00.661Z"
   },
   {
    "duration": 53,
    "start_time": "2023-11-25T13:59:00.721Z"
   },
   {
    "duration": 42,
    "start_time": "2023-11-25T13:59:00.776Z"
   },
   {
    "duration": 53,
    "start_time": "2023-11-25T13:59:00.820Z"
   },
   {
    "duration": 36,
    "start_time": "2023-11-25T13:59:00.875Z"
   },
   {
    "duration": 196,
    "start_time": "2023-11-25T13:59:00.913Z"
   },
   {
    "duration": 79,
    "start_time": "2023-11-25T13:59:01.111Z"
   },
   {
    "duration": 2221,
    "start_time": "2023-11-25T13:59:01.192Z"
   },
   {
    "duration": 274,
    "start_time": "2023-11-25T13:59:03.415Z"
   },
   {
    "duration": 376,
    "start_time": "2023-11-25T13:59:03.691Z"
   },
   {
    "duration": 681,
    "start_time": "2023-11-25T13:59:04.069Z"
   },
   {
    "duration": 708,
    "start_time": "2023-11-25T13:59:04.752Z"
   },
   {
    "duration": 601,
    "start_time": "2023-11-25T13:59:05.461Z"
   },
   {
    "duration": 310,
    "start_time": "2023-11-25T13:59:06.063Z"
   },
   {
    "duration": 300,
    "start_time": "2023-11-25T13:59:06.375Z"
   },
   {
    "duration": 413,
    "start_time": "2023-11-25T13:59:06.676Z"
   },
   {
    "duration": 161,
    "start_time": "2023-11-25T13:59:07.091Z"
   },
   {
    "duration": 304,
    "start_time": "2023-11-25T13:59:07.253Z"
   },
   {
    "duration": 292,
    "start_time": "2023-11-25T13:59:07.563Z"
   },
   {
    "duration": 295,
    "start_time": "2023-11-25T13:59:07.862Z"
   },
   {
    "duration": 11,
    "start_time": "2023-11-25T13:59:08.160Z"
   },
   {
    "duration": 310,
    "start_time": "2023-11-25T13:59:08.173Z"
   },
   {
    "duration": 9,
    "start_time": "2023-11-25T13:59:08.485Z"
   },
   {
    "duration": 18,
    "start_time": "2023-11-25T13:59:08.496Z"
   },
   {
    "duration": 344,
    "start_time": "2023-11-25T13:59:08.516Z"
   },
   {
    "duration": 5,
    "start_time": "2023-11-25T13:59:08.865Z"
   },
   {
    "duration": 202,
    "start_time": "2023-11-25T13:59:08.872Z"
   },
   {
    "duration": 5,
    "start_time": "2023-11-25T13:59:09.075Z"
   },
   {
    "duration": 206,
    "start_time": "2023-11-25T13:59:09.081Z"
   },
   {
    "duration": 6,
    "start_time": "2023-11-25T13:59:09.289Z"
   },
   {
    "duration": 198,
    "start_time": "2023-11-25T13:59:09.296Z"
   },
   {
    "duration": 181,
    "start_time": "2023-11-25T13:59:09.496Z"
   },
   {
    "duration": 198,
    "start_time": "2023-11-25T13:59:09.679Z"
   },
   {
    "duration": 234,
    "start_time": "2023-11-25T13:59:09.880Z"
   },
   {
    "duration": 155,
    "start_time": "2023-11-25T13:59:10.115Z"
   },
   {
    "duration": 7,
    "start_time": "2023-11-25T13:59:10.271Z"
   },
   {
    "duration": 30,
    "start_time": "2023-11-25T13:59:10.279Z"
   },
   {
    "duration": 48,
    "start_time": "2023-11-25T13:59:10.311Z"
   },
   {
    "duration": 148,
    "start_time": "2023-11-25T13:59:10.362Z"
   },
   {
    "duration": 41,
    "start_time": "2023-11-25T13:59:10.511Z"
   },
   {
    "duration": 608,
    "start_time": "2023-11-25T13:59:30.466Z"
   },
   {
    "duration": 35,
    "start_time": "2023-11-25T13:59:31.076Z"
   },
   {
    "duration": 37,
    "start_time": "2023-11-25T13:59:31.113Z"
   },
   {
    "duration": 2497,
    "start_time": "2023-11-25T13:59:31.151Z"
   },
   {
    "duration": 11,
    "start_time": "2023-11-25T13:59:33.650Z"
   },
   {
    "duration": 11,
    "start_time": "2023-11-25T13:59:33.662Z"
   },
   {
    "duration": 21,
    "start_time": "2023-11-25T13:59:33.674Z"
   },
   {
    "duration": 9,
    "start_time": "2023-11-25T13:59:33.697Z"
   },
   {
    "duration": 11,
    "start_time": "2023-11-25T13:59:33.708Z"
   },
   {
    "duration": 27,
    "start_time": "2023-11-25T13:59:33.721Z"
   },
   {
    "duration": 20,
    "start_time": "2023-11-25T13:59:33.750Z"
   },
   {
    "duration": 21,
    "start_time": "2023-11-25T13:59:33.772Z"
   },
   {
    "duration": 30,
    "start_time": "2023-11-25T13:59:33.795Z"
   },
   {
    "duration": 144,
    "start_time": "2023-11-25T13:59:33.827Z"
   },
   {
    "duration": 18,
    "start_time": "2023-11-25T13:59:33.972Z"
   },
   {
    "duration": 3340,
    "start_time": "2023-11-25T13:59:33.992Z"
   },
   {
    "duration": 265,
    "start_time": "2023-11-25T13:59:37.336Z"
   },
   {
    "duration": 406,
    "start_time": "2023-11-25T13:59:37.602Z"
   },
   {
    "duration": 301,
    "start_time": "2023-11-25T13:59:38.009Z"
   },
   {
    "duration": 283,
    "start_time": "2023-11-25T13:59:38.312Z"
   },
   {
    "duration": 275,
    "start_time": "2023-11-25T13:59:38.596Z"
   },
   {
    "duration": 317,
    "start_time": "2023-11-25T13:59:38.873Z"
   },
   {
    "duration": 303,
    "start_time": "2023-11-25T13:59:39.191Z"
   },
   {
    "duration": 408,
    "start_time": "2023-11-25T13:59:39.496Z"
   },
   {
    "duration": 162,
    "start_time": "2023-11-25T13:59:39.905Z"
   },
   {
    "duration": 293,
    "start_time": "2023-11-25T13:59:40.068Z"
   },
   {
    "duration": 288,
    "start_time": "2023-11-25T13:59:40.362Z"
   },
   {
    "duration": 304,
    "start_time": "2023-11-25T13:59:40.655Z"
   },
   {
    "duration": 10,
    "start_time": "2023-11-25T13:59:40.961Z"
   },
   {
    "duration": 305,
    "start_time": "2023-11-25T13:59:40.973Z"
   },
   {
    "duration": 8,
    "start_time": "2023-11-25T13:59:41.280Z"
   },
   {
    "duration": 9,
    "start_time": "2023-11-25T13:59:41.289Z"
   },
   {
    "duration": 311,
    "start_time": "2023-11-25T13:59:41.299Z"
   },
   {
    "duration": 19,
    "start_time": "2023-11-25T13:59:41.612Z"
   },
   {
    "duration": 175,
    "start_time": "2023-11-25T13:59:41.636Z"
   },
   {
    "duration": 12,
    "start_time": "2023-11-25T13:59:41.813Z"
   },
   {
    "duration": 185,
    "start_time": "2023-11-25T13:59:41.826Z"
   },
   {
    "duration": 14,
    "start_time": "2023-11-25T13:59:42.013Z"
   },
   {
    "duration": 200,
    "start_time": "2023-11-25T13:59:42.037Z"
   },
   {
    "duration": 147,
    "start_time": "2023-11-25T13:59:42.247Z"
   },
   {
    "duration": 170,
    "start_time": "2023-11-25T13:59:42.395Z"
   },
   {
    "duration": 202,
    "start_time": "2023-11-25T13:59:42.567Z"
   },
   {
    "duration": 161,
    "start_time": "2023-11-25T13:59:42.771Z"
   },
   {
    "duration": 9,
    "start_time": "2023-11-25T13:59:42.934Z"
   },
   {
    "duration": 39,
    "start_time": "2023-11-25T13:59:42.945Z"
   },
   {
    "duration": 19,
    "start_time": "2023-11-25T13:59:42.985Z"
   },
   {
    "duration": 173,
    "start_time": "2023-11-25T13:59:43.005Z"
   },
   {
    "duration": 25,
    "start_time": "2023-11-25T13:59:43.179Z"
   },
   {
    "duration": 9,
    "start_time": "2023-11-25T14:03:05.374Z"
   },
   {
    "duration": 9,
    "start_time": "2023-11-25T14:03:10.994Z"
   },
   {
    "duration": 75,
    "start_time": "2023-11-25T14:03:23.553Z"
   },
   {
    "duration": 4,
    "start_time": "2023-11-25T14:09:12.175Z"
   },
   {
    "duration": 151,
    "start_time": "2023-11-25T14:12:07.433Z"
   },
   {
    "duration": 586,
    "start_time": "2023-11-29T07:27:29.280Z"
   },
   {
    "duration": 220,
    "start_time": "2023-11-29T07:27:29.868Z"
   },
   {
    "duration": 33,
    "start_time": "2023-11-29T07:27:30.089Z"
   },
   {
    "duration": 20,
    "start_time": "2023-11-29T07:27:30.124Z"
   },
   {
    "duration": 1955,
    "start_time": "2023-11-29T07:27:30.145Z"
   },
   {
    "duration": 12,
    "start_time": "2023-11-29T07:27:32.102Z"
   },
   {
    "duration": 22,
    "start_time": "2023-11-29T07:27:32.116Z"
   },
   {
    "duration": 21,
    "start_time": "2023-11-29T07:27:32.139Z"
   },
   {
    "duration": 36,
    "start_time": "2023-11-29T07:27:32.161Z"
   },
   {
    "duration": 31,
    "start_time": "2023-11-29T07:27:32.200Z"
   },
   {
    "duration": 25,
    "start_time": "2023-11-29T07:27:32.233Z"
   },
   {
    "duration": 7,
    "start_time": "2023-11-29T07:27:32.260Z"
   },
   {
    "duration": 119,
    "start_time": "2023-11-29T07:27:32.268Z"
   },
   {
    "duration": 18,
    "start_time": "2023-11-29T07:27:32.389Z"
   },
   {
    "duration": 29,
    "start_time": "2023-11-29T07:27:32.409Z"
   },
   {
    "duration": 290,
    "start_time": "2023-11-29T07:27:32.440Z"
   },
   {
    "duration": 12,
    "start_time": "2023-11-29T07:27:32.732Z"
   },
   {
    "duration": 30,
    "start_time": "2023-11-29T07:27:32.745Z"
   },
   {
    "duration": 245,
    "start_time": "2023-11-29T07:27:32.777Z"
   },
   {
    "duration": 13,
    "start_time": "2023-11-29T07:27:33.024Z"
   },
   {
    "duration": 330,
    "start_time": "2023-11-29T07:27:33.039Z"
   },
   {
    "duration": 9,
    "start_time": "2023-11-29T07:27:33.371Z"
   },
   {
    "duration": 238,
    "start_time": "2023-11-29T07:27:33.381Z"
   },
   {
    "duration": 12,
    "start_time": "2023-11-29T07:27:33.621Z"
   },
   {
    "duration": 226,
    "start_time": "2023-11-29T07:27:33.635Z"
   },
   {
    "duration": 8,
    "start_time": "2023-11-29T07:27:33.863Z"
   },
   {
    "duration": 241,
    "start_time": "2023-11-29T07:27:33.873Z"
   },
   {
    "duration": 16,
    "start_time": "2023-11-29T07:27:34.117Z"
   },
   {
    "duration": 238,
    "start_time": "2023-11-29T07:27:34.135Z"
   },
   {
    "duration": 9,
    "start_time": "2023-11-29T07:27:34.374Z"
   },
   {
    "duration": 127,
    "start_time": "2023-11-29T07:27:34.384Z"
   },
   {
    "duration": 317,
    "start_time": "2023-11-29T07:27:34.513Z"
   },
   {
    "duration": 8,
    "start_time": "2023-11-29T07:27:34.832Z"
   },
   {
    "duration": 229,
    "start_time": "2023-11-29T07:27:34.841Z"
   },
   {
    "duration": 234,
    "start_time": "2023-11-29T07:27:35.072Z"
   },
   {
    "duration": 4,
    "start_time": "2023-11-29T07:27:35.307Z"
   },
   {
    "duration": 274,
    "start_time": "2023-11-29T07:27:35.313Z"
   },
   {
    "duration": 246,
    "start_time": "2023-11-29T07:27:35.588Z"
   },
   {
    "duration": 10,
    "start_time": "2023-11-29T07:27:35.836Z"
   },
   {
    "duration": 5,
    "start_time": "2023-11-29T07:27:35.848Z"
   },
   {
    "duration": 187,
    "start_time": "2023-11-29T07:27:35.855Z"
   },
   {
    "duration": 6,
    "start_time": "2023-11-29T07:27:36.044Z"
   },
   {
    "duration": 168,
    "start_time": "2023-11-29T07:27:36.052Z"
   },
   {
    "duration": 12,
    "start_time": "2023-11-29T07:27:36.221Z"
   },
   {
    "duration": 249,
    "start_time": "2023-11-29T07:27:36.234Z"
   },
   {
    "duration": 7,
    "start_time": "2023-11-29T07:27:36.485Z"
   },
   {
    "duration": 153,
    "start_time": "2023-11-29T07:27:36.494Z"
   },
   {
    "duration": 128,
    "start_time": "2023-11-29T07:27:36.649Z"
   },
   {
    "duration": 136,
    "start_time": "2023-11-29T07:27:36.779Z"
   },
   {
    "duration": 163,
    "start_time": "2023-11-29T07:27:36.917Z"
   },
   {
    "duration": 145,
    "start_time": "2023-11-29T07:27:37.081Z"
   },
   {
    "duration": 10,
    "start_time": "2023-11-29T07:27:37.231Z"
   },
   {
    "duration": 48,
    "start_time": "2023-11-29T07:27:37.242Z"
   },
   {
    "duration": 23,
    "start_time": "2023-11-29T07:27:37.292Z"
   },
   {
    "duration": 143,
    "start_time": "2023-11-29T07:27:37.317Z"
   },
   {
    "duration": 24,
    "start_time": "2023-11-29T07:27:37.462Z"
   },
   {
    "duration": 87,
    "start_time": "2023-11-29T07:40:35.955Z"
   },
   {
    "duration": 139,
    "start_time": "2023-11-29T07:47:19.119Z"
   },
   {
    "duration": 122,
    "start_time": "2023-11-29T07:48:24.976Z"
   },
   {
    "duration": 134,
    "start_time": "2023-11-29T07:49:47.405Z"
   },
   {
    "duration": 128,
    "start_time": "2023-11-29T07:50:14.021Z"
   },
   {
    "duration": 159,
    "start_time": "2023-11-29T07:50:25.790Z"
   },
   {
    "duration": 88,
    "start_time": "2023-11-29T07:54:09.851Z"
   },
   {
    "duration": 452,
    "start_time": "2023-11-29T07:54:15.628Z"
   },
   {
    "duration": 28,
    "start_time": "2023-11-29T07:54:35.004Z"
   },
   {
    "duration": 94,
    "start_time": "2023-11-29T07:55:02.847Z"
   },
   {
    "duration": 22,
    "start_time": "2023-11-29T07:55:56.666Z"
   },
   {
    "duration": 18,
    "start_time": "2023-11-29T07:56:30.954Z"
   },
   {
    "duration": 16,
    "start_time": "2023-11-29T07:56:48.411Z"
   },
   {
    "duration": 20,
    "start_time": "2023-11-29T07:57:48.845Z"
   },
   {
    "duration": 81,
    "start_time": "2023-11-29T07:58:39.831Z"
   },
   {
    "duration": 103,
    "start_time": "2023-11-29T07:58:58.116Z"
   },
   {
    "duration": 21,
    "start_time": "2023-11-29T07:59:02.207Z"
   },
   {
    "duration": 28,
    "start_time": "2023-11-29T07:59:08.684Z"
   },
   {
    "duration": 606,
    "start_time": "2023-12-01T06:51:27.172Z"
   },
   {
    "duration": 149,
    "start_time": "2023-12-01T06:51:27.780Z"
   },
   {
    "duration": 34,
    "start_time": "2023-12-01T06:51:27.931Z"
   },
   {
    "duration": 14,
    "start_time": "2023-12-01T06:51:27.967Z"
   },
   {
    "duration": 1926,
    "start_time": "2023-12-01T06:51:27.983Z"
   },
   {
    "duration": 11,
    "start_time": "2023-12-01T06:51:29.911Z"
   },
   {
    "duration": 8,
    "start_time": "2023-12-01T06:51:29.924Z"
   },
   {
    "duration": 25,
    "start_time": "2023-12-01T06:51:29.934Z"
   },
   {
    "duration": 5,
    "start_time": "2023-12-01T06:51:29.961Z"
   },
   {
    "duration": 22,
    "start_time": "2023-12-01T06:51:29.969Z"
   },
   {
    "duration": 75,
    "start_time": "2023-12-01T06:51:29.993Z"
   },
   {
    "duration": 35,
    "start_time": "2023-12-01T06:51:30.070Z"
   },
   {
    "duration": 37,
    "start_time": "2023-12-01T06:51:30.107Z"
   },
   {
    "duration": 60,
    "start_time": "2023-12-01T06:51:30.146Z"
   },
   {
    "duration": 40,
    "start_time": "2023-12-01T06:51:30.208Z"
   },
   {
    "duration": 56,
    "start_time": "2023-12-01T06:51:30.250Z"
   },
   {
    "duration": 18,
    "start_time": "2023-12-01T06:51:30.307Z"
   },
   {
    "duration": 147,
    "start_time": "2023-12-01T06:51:30.327Z"
   },
   {
    "duration": 95,
    "start_time": "2023-12-01T06:51:30.475Z"
   },
   {
    "duration": 77,
    "start_time": "2023-12-01T06:51:30.572Z"
   },
   {
    "duration": 352,
    "start_time": "2023-12-01T06:51:30.651Z"
   },
   {
    "duration": 16,
    "start_time": "2023-12-01T06:51:31.004Z"
   },
   {
    "duration": 47,
    "start_time": "2023-12-01T06:51:31.022Z"
   },
   {
    "duration": 246,
    "start_time": "2023-12-01T06:51:31.071Z"
   },
   {
    "duration": 8,
    "start_time": "2023-12-01T06:51:31.319Z"
   },
   {
    "duration": 345,
    "start_time": "2023-12-01T06:51:31.329Z"
   },
   {
    "duration": 8,
    "start_time": "2023-12-01T06:51:31.676Z"
   },
   {
    "duration": 273,
    "start_time": "2023-12-01T06:51:31.689Z"
   },
   {
    "duration": 10,
    "start_time": "2023-12-01T06:51:31.963Z"
   },
   {
    "duration": 261,
    "start_time": "2023-12-01T06:51:31.974Z"
   },
   {
    "duration": 10,
    "start_time": "2023-12-01T06:51:32.237Z"
   },
   {
    "duration": 166,
    "start_time": "2023-12-01T06:51:32.249Z"
   },
   {
    "duration": 9,
    "start_time": "2023-12-01T06:51:32.417Z"
   },
   {
    "duration": 270,
    "start_time": "2023-12-01T06:51:32.428Z"
   },
   {
    "duration": 15,
    "start_time": "2023-12-01T06:51:32.700Z"
   },
   {
    "duration": 151,
    "start_time": "2023-12-01T06:51:32.716Z"
   },
   {
    "duration": 268,
    "start_time": "2023-12-01T06:51:32.869Z"
   },
   {
    "duration": 9,
    "start_time": "2023-12-01T06:51:33.138Z"
   },
   {
    "duration": 332,
    "start_time": "2023-12-01T06:51:33.148Z"
   },
   {
    "duration": 255,
    "start_time": "2023-12-01T06:51:33.482Z"
   },
   {
    "duration": 3,
    "start_time": "2023-12-01T06:51:33.739Z"
   },
   {
    "duration": 274,
    "start_time": "2023-12-01T06:51:33.743Z"
   },
   {
    "duration": 284,
    "start_time": "2023-12-01T06:51:34.018Z"
   },
   {
    "duration": 11,
    "start_time": "2023-12-01T06:51:34.304Z"
   },
   {
    "duration": 4,
    "start_time": "2023-12-01T06:51:34.317Z"
   },
   {
    "duration": 203,
    "start_time": "2023-12-01T06:51:34.322Z"
   },
   {
    "duration": 5,
    "start_time": "2023-12-01T06:51:34.526Z"
   },
   {
    "duration": 199,
    "start_time": "2023-12-01T06:51:34.532Z"
   },
   {
    "duration": 5,
    "start_time": "2023-12-01T06:51:34.732Z"
   },
   {
    "duration": 215,
    "start_time": "2023-12-01T06:51:34.738Z"
   },
   {
    "duration": 5,
    "start_time": "2023-12-01T06:51:34.954Z"
   },
   {
    "duration": 259,
    "start_time": "2023-12-01T06:51:34.961Z"
   },
   {
    "duration": 158,
    "start_time": "2023-12-01T06:51:35.221Z"
   },
   {
    "duration": 145,
    "start_time": "2023-12-01T06:51:35.380Z"
   },
   {
    "duration": 156,
    "start_time": "2023-12-01T06:51:35.526Z"
   },
   {
    "duration": 183,
    "start_time": "2023-12-01T06:51:35.683Z"
   },
   {
    "duration": 169,
    "start_time": "2023-12-01T06:51:35.867Z"
   },
   {
    "duration": 6,
    "start_time": "2023-12-01T06:51:36.038Z"
   },
   {
    "duration": 31,
    "start_time": "2023-12-01T06:51:36.045Z"
   },
   {
    "duration": 18,
    "start_time": "2023-12-01T06:51:36.077Z"
   },
   {
    "duration": 175,
    "start_time": "2023-12-01T06:51:36.096Z"
   },
   {
    "duration": 24,
    "start_time": "2023-12-01T06:51:36.273Z"
   },
   {
    "duration": 2438,
    "start_time": "2023-12-01T06:53:06.326Z"
   },
   {
    "duration": 2514,
    "start_time": "2023-12-01T06:53:18.362Z"
   },
   {
    "duration": 2769,
    "start_time": "2023-12-01T06:53:35.613Z"
   },
   {
    "duration": 89,
    "start_time": "2023-12-01T06:56:39.146Z"
   }
  ],
  "kernelspec": {
   "display_name": "Python 3 (ipykernel)",
   "language": "python",
   "name": "python3"
  },
  "language_info": {
   "codemirror_mode": {
    "name": "ipython",
    "version": 3
   },
   "file_extension": ".py",
   "mimetype": "text/x-python",
   "name": "python",
   "nbconvert_exporter": "python",
   "pygments_lexer": "ipython3",
   "version": "3.9.5"
  },
  "toc": {
   "base_numbering": 1,
   "nav_menu": {},
   "number_sections": true,
   "sideBar": true,
   "skip_h1_title": true,
   "title_cell": "Table of Contents",
   "title_sidebar": "Contents",
   "toc_cell": false,
   "toc_position": {},
   "toc_section_display": true,
   "toc_window_display": true
  }
 },
 "nbformat": 4,
 "nbformat_minor": 4
}
